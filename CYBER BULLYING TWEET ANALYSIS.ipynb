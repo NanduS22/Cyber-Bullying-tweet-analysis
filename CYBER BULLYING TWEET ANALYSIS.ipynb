{
 "cells": [
  {
   "cell_type": "markdown",
   "id": "4d8d1343",
   "metadata": {},
   "source": [
    "# < JAZIM> "
   ]
  },
  {
   "cell_type": "markdown",
   "id": "5f681c61",
   "metadata": {},
   "source": [
    "# Importing Libraries"
   ]
  },
  {
   "cell_type": "code",
   "execution_count": 1,
   "id": "715cd160",
   "metadata": {},
   "outputs": [],
   "source": [
    "#importing necessary libraries\n",
    "import warnings\n",
    "warnings.filterwarnings('ignore')\n",
    "import pandas as pd\n",
    "import numpy as np\n",
    "import re\n",
    "import matplotlib.pyplot as plt\n",
    "%matplotlib inline\n",
    "import seaborn as sns\n",
    "import plotly.express as px\n",
    "import emoji\n",
    "import string\n",
    "import nltk\n",
    "from sklearn.preprocessing import LabelEncoder"
   ]
  },
  {
   "cell_type": "code",
   "execution_count": 2,
   "id": "4f4551a3",
   "metadata": {},
   "outputs": [
    {
     "name": "stderr",
     "output_type": "stream",
     "text": [
      "[nltk_data] Downloading package stopwords to\n",
      "[nltk_data]     C:\\Users\\HP\\AppData\\Roaming\\nltk_data...\n",
      "[nltk_data]   Package stopwords is already up-to-date!\n"
     ]
    },
    {
     "data": {
      "text/plain": [
       "True"
      ]
     },
     "execution_count": 2,
     "metadata": {},
     "output_type": "execute_result"
    }
   ],
   "source": [
    "nltk.download('stopwords')"
   ]
  },
  {
   "cell_type": "code",
   "execution_count": 3,
   "id": "5cfc6979",
   "metadata": {},
   "outputs": [],
   "source": [
    "from PIL import Image\n",
    "from collections import Counter\n",
    "from wordcloud import WordCloud, ImageColorGenerator, STOPWORDS\n",
    "from nltk.tokenize import word_tokenize\n",
    "from nltk.corpus import stopwords\n",
    "from nltk.stem.porter import PorterStemmer\n",
    "from nltk.stem.snowball import SnowballStemmer\n",
    "from nltk.stem import WordNetLemmatizer\n",
    "from sklearn.feature_extraction.text import CountVectorizer\n",
    "from sklearn.feature_extraction.text import TfidfVectorizer\n",
    "from sklearn.model_selection import train_test_split\n",
    "from sklearn.model_selection import cross_val_score\n",
    "from sklearn.metrics import accuracy_score, f1_score, confusion_matrix, classification_report\n",
    "from sklearn.linear_model import LogisticRegression\n",
    "from sklearn.ensemble import RandomForestClassifier\n",
    "from sklearn.ensemble import AdaBoostClassifier\n",
    "from sklearn.model_selection import GridSearchCV\n",
    "from sklearn.svm import SVC, LinearSVC\n",
    "from sklearn.naive_bayes import MultinomialNB\n",
    "from sklearn.tree import DecisionTreeClassifier\n",
    "from sklearn.pipeline import Pipeline\n",
    "import pickle"
   ]
  },
  {
   "cell_type": "markdown",
   "id": "2653e335",
   "metadata": {},
   "source": [
    "**Getting the data"
   ]
  },
  {
   "cell_type": "code",
   "execution_count": 4,
   "id": "716f6a27",
   "metadata": {},
   "outputs": [],
   "source": [
    "data=pd.read_csv('C:\\\\Users\\\\HP\\\\Desktop\\\\DATA SETS\\\\cyberbullying_tweets.csv')"
   ]
  },
  {
   "cell_type": "markdown",
   "id": "0dbfc9d6",
   "metadata": {},
   "source": [
    "# REVIEW OF THE DATA SET"
   ]
  },
  {
   "cell_type": "code",
   "execution_count": 5,
   "id": "fd858fcc",
   "metadata": {},
   "outputs": [
    {
     "name": "stdout",
     "output_type": "stream",
     "text": [
      "<class 'pandas.core.frame.DataFrame'>\n",
      "RangeIndex: 47692 entries, 0 to 47691\n",
      "Data columns (total 2 columns):\n",
      " #   Column              Non-Null Count  Dtype \n",
      "---  ------              --------------  ----- \n",
      " 0   tweet_text          47692 non-null  object\n",
      " 1   cyberbullying_type  47692 non-null  object\n",
      "dtypes: object(2)\n",
      "memory usage: 745.3+ KB\n"
     ]
    }
   ],
   "source": [
    "data.info()"
   ]
  },
  {
   "cell_type": "code",
   "execution_count": 6,
   "id": "e9f72c48",
   "metadata": {},
   "outputs": [
    {
     "data": {
      "text/html": [
       "<div>\n",
       "<style scoped>\n",
       "    .dataframe tbody tr th:only-of-type {\n",
       "        vertical-align: middle;\n",
       "    }\n",
       "\n",
       "    .dataframe tbody tr th {\n",
       "        vertical-align: top;\n",
       "    }\n",
       "\n",
       "    .dataframe thead th {\n",
       "        text-align: right;\n",
       "    }\n",
       "</style>\n",
       "<table border=\"1\" class=\"dataframe\">\n",
       "  <thead>\n",
       "    <tr style=\"text-align: right;\">\n",
       "      <th></th>\n",
       "      <th>tweet_text</th>\n",
       "      <th>cyberbullying_type</th>\n",
       "    </tr>\n",
       "  </thead>\n",
       "  <tbody>\n",
       "    <tr>\n",
       "      <th>0</th>\n",
       "      <td>In other words #katandandre, your food was cra...</td>\n",
       "      <td>not_cyberbullying</td>\n",
       "    </tr>\n",
       "    <tr>\n",
       "      <th>1</th>\n",
       "      <td>Why is #aussietv so white? #MKR #theblock #ImA...</td>\n",
       "      <td>not_cyberbullying</td>\n",
       "    </tr>\n",
       "    <tr>\n",
       "      <th>2</th>\n",
       "      <td>@XochitlSuckkks a classy whore? Or more red ve...</td>\n",
       "      <td>not_cyberbullying</td>\n",
       "    </tr>\n",
       "    <tr>\n",
       "      <th>3</th>\n",
       "      <td>@Jason_Gio meh. :P  thanks for the heads up, b...</td>\n",
       "      <td>not_cyberbullying</td>\n",
       "    </tr>\n",
       "    <tr>\n",
       "      <th>4</th>\n",
       "      <td>@RudhoeEnglish This is an ISIS account pretend...</td>\n",
       "      <td>not_cyberbullying</td>\n",
       "    </tr>\n",
       "    <tr>\n",
       "      <th>5</th>\n",
       "      <td>@Raja5aab @Quickieleaks Yes, the test of god i...</td>\n",
       "      <td>not_cyberbullying</td>\n",
       "    </tr>\n",
       "    <tr>\n",
       "      <th>6</th>\n",
       "      <td>Itu sekolah ya bukan tempat bully! Ga jauh kay...</td>\n",
       "      <td>not_cyberbullying</td>\n",
       "    </tr>\n",
       "    <tr>\n",
       "      <th>7</th>\n",
       "      <td>Karma. I hope it bites Kat on the butt. She is...</td>\n",
       "      <td>not_cyberbullying</td>\n",
       "    </tr>\n",
       "    <tr>\n",
       "      <th>8</th>\n",
       "      <td>@stockputout everything but mostly my priest</td>\n",
       "      <td>not_cyberbullying</td>\n",
       "    </tr>\n",
       "    <tr>\n",
       "      <th>9</th>\n",
       "      <td>Rebecca Black Drops Out of School Due to Bully...</td>\n",
       "      <td>not_cyberbullying</td>\n",
       "    </tr>\n",
       "  </tbody>\n",
       "</table>\n",
       "</div>"
      ],
      "text/plain": [
       "                                          tweet_text cyberbullying_type\n",
       "0  In other words #katandandre, your food was cra...  not_cyberbullying\n",
       "1  Why is #aussietv so white? #MKR #theblock #ImA...  not_cyberbullying\n",
       "2  @XochitlSuckkks a classy whore? Or more red ve...  not_cyberbullying\n",
       "3  @Jason_Gio meh. :P  thanks for the heads up, b...  not_cyberbullying\n",
       "4  @RudhoeEnglish This is an ISIS account pretend...  not_cyberbullying\n",
       "5  @Raja5aab @Quickieleaks Yes, the test of god i...  not_cyberbullying\n",
       "6  Itu sekolah ya bukan tempat bully! Ga jauh kay...  not_cyberbullying\n",
       "7  Karma. I hope it bites Kat on the butt. She is...  not_cyberbullying\n",
       "8       @stockputout everything but mostly my priest  not_cyberbullying\n",
       "9  Rebecca Black Drops Out of School Due to Bully...  not_cyberbullying"
      ]
     },
     "execution_count": 6,
     "metadata": {},
     "output_type": "execute_result"
    }
   ],
   "source": [
    "data.head(10)"
   ]
  },
  {
   "cell_type": "code",
   "execution_count": 7,
   "id": "7d8d5651",
   "metadata": {},
   "outputs": [
    {
     "data": {
      "text/html": [
       "<div>\n",
       "<style scoped>\n",
       "    .dataframe tbody tr th:only-of-type {\n",
       "        vertical-align: middle;\n",
       "    }\n",
       "\n",
       "    .dataframe tbody tr th {\n",
       "        vertical-align: top;\n",
       "    }\n",
       "\n",
       "    .dataframe thead th {\n",
       "        text-align: right;\n",
       "    }\n",
       "</style>\n",
       "<table border=\"1\" class=\"dataframe\">\n",
       "  <thead>\n",
       "    <tr style=\"text-align: right;\">\n",
       "      <th></th>\n",
       "      <th>tweet_text</th>\n",
       "      <th>cyberbullying_type</th>\n",
       "    </tr>\n",
       "  </thead>\n",
       "  <tbody>\n",
       "    <tr>\n",
       "      <th>46551</th>\n",
       "      <td>Look at this hating face lmao sure is living i...</td>\n",
       "      <td>ethnicity</td>\n",
       "    </tr>\n",
       "    <tr>\n",
       "      <th>7896</th>\n",
       "      <td>#MKR everyone looks tired</td>\n",
       "      <td>not_cyberbullying</td>\n",
       "    </tr>\n",
       "    <tr>\n",
       "      <th>14115</th>\n",
       "      <td>@LibrosOverHos @anylaurie16 Not a gay joke. A ...</td>\n",
       "      <td>gender</td>\n",
       "    </tr>\n",
       "    <tr>\n",
       "      <th>24259</th>\n",
       "      <td>@MetroidThief email, but basically, yes.</td>\n",
       "      <td>other_cyberbullying</td>\n",
       "    </tr>\n",
       "    <tr>\n",
       "      <th>3872</th>\n",
       "      <td>Bugger...NOT... Bye Bye Blondes... #MKR</td>\n",
       "      <td>not_cyberbullying</td>\n",
       "    </tr>\n",
       "    <tr>\n",
       "      <th>41821</th>\n",
       "      <td>If they didn’t do anything about gun control w...</td>\n",
       "      <td>ethnicity</td>\n",
       "    </tr>\n",
       "    <tr>\n",
       "      <th>36664</th>\n",
       "      <td>my biggest flex is that i wasn’t a bully in hi...</td>\n",
       "      <td>age</td>\n",
       "    </tr>\n",
       "    <tr>\n",
       "      <th>15739</th>\n",
       "      <td>Sorry I just call females bitches the same way...</td>\n",
       "      <td>gender</td>\n",
       "    </tr>\n",
       "    <tr>\n",
       "      <th>23500</th>\n",
       "      <td>And both segments are shit. And advocating or ...</td>\n",
       "      <td>religion</td>\n",
       "    </tr>\n",
       "    <tr>\n",
       "      <th>13457</th>\n",
       "      <td>Can't there be one day at work without gay ana...</td>\n",
       "      <td>gender</td>\n",
       "    </tr>\n",
       "    <tr>\n",
       "      <th>47508</th>\n",
       "      <td>you really mad as shit my man in here another ...</td>\n",
       "      <td>ethnicity</td>\n",
       "    </tr>\n",
       "    <tr>\n",
       "      <th>35555</th>\n",
       "      <td>help i’m actually upset they r suppose to be f...</td>\n",
       "      <td>age</td>\n",
       "    </tr>\n",
       "    <tr>\n",
       "      <th>12998</th>\n",
       "      <td>This isn't even about the best cooking right n...</td>\n",
       "      <td>gender</td>\n",
       "    </tr>\n",
       "    <tr>\n",
       "      <th>13295</th>\n",
       "      <td>Black gay men think jokes about rape are hilar...</td>\n",
       "      <td>gender</td>\n",
       "    </tr>\n",
       "    <tr>\n",
       "      <th>29795</th>\n",
       "      <td>I'm a tank! #warcraft #selfie http://t.co/itB8...</td>\n",
       "      <td>other_cyberbullying</td>\n",
       "    </tr>\n",
       "    <tr>\n",
       "      <th>26159</th>\n",
       "      <td>Omg we're going to war! Trump is so fucking st...</td>\n",
       "      <td>other_cyberbullying</td>\n",
       "    </tr>\n",
       "    <tr>\n",
       "      <th>41011</th>\n",
       "      <td>Calling players \"black cunts\" and \"niggers\" is...</td>\n",
       "      <td>ethnicity</td>\n",
       "    </tr>\n",
       "    <tr>\n",
       "      <th>28791</th>\n",
       "      <td>YES. I LOVE @lenadunham. http://t.co/ycgTBmmdxb</td>\n",
       "      <td>other_cyberbullying</td>\n",
       "    </tr>\n",
       "    <tr>\n",
       "      <th>34534</th>\n",
       "      <td>This poor kid’s high school life is ruined for...</td>\n",
       "      <td>age</td>\n",
       "    </tr>\n",
       "    <tr>\n",
       "      <th>1860</th>\n",
       "      <td>@pepa_ad por q me hablas de eso justo ahora q ...</td>\n",
       "      <td>not_cyberbullying</td>\n",
       "    </tr>\n",
       "  </tbody>\n",
       "</table>\n",
       "</div>"
      ],
      "text/plain": [
       "                                              tweet_text   cyberbullying_type\n",
       "46551  Look at this hating face lmao sure is living i...            ethnicity\n",
       "7896                           #MKR everyone looks tired    not_cyberbullying\n",
       "14115  @LibrosOverHos @anylaurie16 Not a gay joke. A ...               gender\n",
       "24259           @MetroidThief email, but basically, yes.  other_cyberbullying\n",
       "3872             Bugger...NOT... Bye Bye Blondes... #MKR    not_cyberbullying\n",
       "41821  If they didn’t do anything about gun control w...            ethnicity\n",
       "36664  my biggest flex is that i wasn’t a bully in hi...                  age\n",
       "15739  Sorry I just call females bitches the same way...               gender\n",
       "23500  And both segments are shit. And advocating or ...             religion\n",
       "13457  Can't there be one day at work without gay ana...               gender\n",
       "47508  you really mad as shit my man in here another ...            ethnicity\n",
       "35555  help i’m actually upset they r suppose to be f...                  age\n",
       "12998  This isn't even about the best cooking right n...               gender\n",
       "13295  Black gay men think jokes about rape are hilar...               gender\n",
       "29795  I'm a tank! #warcraft #selfie http://t.co/itB8...  other_cyberbullying\n",
       "26159  Omg we're going to war! Trump is so fucking st...  other_cyberbullying\n",
       "41011  Calling players \"black cunts\" and \"niggers\" is...            ethnicity\n",
       "28791    YES. I LOVE @lenadunham. http://t.co/ycgTBmmdxb  other_cyberbullying\n",
       "34534  This poor kid’s high school life is ruined for...                  age\n",
       "1860   @pepa_ad por q me hablas de eso justo ahora q ...    not_cyberbullying"
      ]
     },
     "execution_count": 7,
     "metadata": {},
     "output_type": "execute_result"
    }
   ],
   "source": [
    "data.sample(20)"
   ]
  },
  {
   "cell_type": "markdown",
   "id": "bdadc9dc",
   "metadata": {},
   "source": [
    "## Checking for missing values in the data set"
   ]
  },
  {
   "cell_type": "code",
   "execution_count": 8,
   "id": "8301995c",
   "metadata": {},
   "outputs": [
    {
     "data": {
      "text/plain": [
       "tweet_text            0\n",
       "cyberbullying_type    0\n",
       "dtype: int64"
      ]
     },
     "execution_count": 8,
     "metadata": {},
     "output_type": "execute_result"
    }
   ],
   "source": [
    "data.isnull().sum()"
   ]
  },
  {
   "cell_type": "markdown",
   "id": "88dc5f30",
   "metadata": {},
   "source": [
    "### No null values found"
   ]
  },
  {
   "cell_type": "code",
   "execution_count": 9,
   "id": "b8bfadab",
   "metadata": {},
   "outputs": [
    {
     "name": "stdout",
     "output_type": "stream",
     "text": [
      "The number of rows present:  47692\n",
      "The number of columns present:  2\n"
     ]
    }
   ],
   "source": [
    "#Shape of the data set or dimersions of the data set\n",
    "print('The number of rows present: ',data.shape[0])\n",
    "print('The number of columns present: ',data.shape[1])"
   ]
  },
  {
   "cell_type": "code",
   "execution_count": 10,
   "id": "b37c2f0f",
   "metadata": {},
   "outputs": [
    {
     "name": "stdout",
     "output_type": "stream",
     "text": [
      "The different columns present in the data set is:  Index(['tweet_text', 'cyberbullying_type'], dtype='object')\n"
     ]
    }
   ],
   "source": [
    "#Columns/ attributes present in the data set\n",
    "print('The different columns present in the data set is: ', data.columns)"
   ]
  },
  {
   "cell_type": "code",
   "execution_count": 11,
   "id": "7f72d096",
   "metadata": {},
   "outputs": [
    {
     "data": {
      "text/plain": [
       "array(['not_cyberbullying', 'gender', 'religion', 'other_cyberbullying',\n",
       "       'age', 'ethnicity'], dtype=object)"
      ]
     },
     "execution_count": 11,
     "metadata": {},
     "output_type": "execute_result"
    }
   ],
   "source": [
    "#Looking for different types of data present in the cyber bullying columns\n",
    "data['cyberbullying_type'].unique()"
   ]
  },
  {
   "cell_type": "markdown",
   "id": "0df297bc",
   "metadata": {},
   "source": [
    "### We can see that there are six distinct types of cyber bullying present in the columns. Let us look the count of different types of cyber bullying present."
   ]
  },
  {
   "cell_type": "code",
   "execution_count": 12,
   "id": "e2e1b724",
   "metadata": {},
   "outputs": [
    {
     "data": {
      "text/plain": [
       "religion               7998\n",
       "age                    7992\n",
       "gender                 7973\n",
       "ethnicity              7961\n",
       "not_cyberbullying      7945\n",
       "other_cyberbullying    7823\n",
       "Name: cyberbullying_type, dtype: int64"
      ]
     },
     "execution_count": 12,
     "metadata": {},
     "output_type": "execute_result"
    }
   ],
   "source": [
    "#Count of different types of tweets in the data set\n",
    "data['cyberbullying_type'].value_counts()"
   ]
  },
  {
   "cell_type": "markdown",
   "id": "f2875402",
   "metadata": {},
   "source": [
    "#### It can be seen that there are almost equal number of distribution of different types of cyberbulling tweets in the data set."
   ]
  },
  {
   "cell_type": "markdown",
   "id": "1c81ab1f",
   "metadata": {},
   "source": [
    "# We will be renaming the columns for better understanding"
   ]
  },
  {
   "cell_type": "code",
   "execution_count": 13,
   "id": "024ce45a",
   "metadata": {},
   "outputs": [],
   "source": [
    "data=data.rename(columns={'tweet_text':'Text', 'cyberbullying_type':'Sentiment'})"
   ]
  },
  {
   "cell_type": "code",
   "execution_count": 14,
   "id": "e11c0686",
   "metadata": {},
   "outputs": [
    {
     "data": {
      "text/html": [
       "<div>\n",
       "<style scoped>\n",
       "    .dataframe tbody tr th:only-of-type {\n",
       "        vertical-align: middle;\n",
       "    }\n",
       "\n",
       "    .dataframe tbody tr th {\n",
       "        vertical-align: top;\n",
       "    }\n",
       "\n",
       "    .dataframe thead th {\n",
       "        text-align: right;\n",
       "    }\n",
       "</style>\n",
       "<table border=\"1\" class=\"dataframe\">\n",
       "  <thead>\n",
       "    <tr style=\"text-align: right;\">\n",
       "      <th></th>\n",
       "      <th>Text</th>\n",
       "      <th>Sentiment</th>\n",
       "    </tr>\n",
       "  </thead>\n",
       "  <tbody>\n",
       "    <tr>\n",
       "      <th>0</th>\n",
       "      <td>In other words #katandandre, your food was cra...</td>\n",
       "      <td>not_cyberbullying</td>\n",
       "    </tr>\n",
       "    <tr>\n",
       "      <th>1</th>\n",
       "      <td>Why is #aussietv so white? #MKR #theblock #ImA...</td>\n",
       "      <td>not_cyberbullying</td>\n",
       "    </tr>\n",
       "    <tr>\n",
       "      <th>2</th>\n",
       "      <td>@XochitlSuckkks a classy whore? Or more red ve...</td>\n",
       "      <td>not_cyberbullying</td>\n",
       "    </tr>\n",
       "    <tr>\n",
       "      <th>3</th>\n",
       "      <td>@Jason_Gio meh. :P  thanks for the heads up, b...</td>\n",
       "      <td>not_cyberbullying</td>\n",
       "    </tr>\n",
       "    <tr>\n",
       "      <th>4</th>\n",
       "      <td>@RudhoeEnglish This is an ISIS account pretend...</td>\n",
       "      <td>not_cyberbullying</td>\n",
       "    </tr>\n",
       "  </tbody>\n",
       "</table>\n",
       "</div>"
      ],
      "text/plain": [
       "                                                Text          Sentiment\n",
       "0  In other words #katandandre, your food was cra...  not_cyberbullying\n",
       "1  Why is #aussietv so white? #MKR #theblock #ImA...  not_cyberbullying\n",
       "2  @XochitlSuckkks a classy whore? Or more red ve...  not_cyberbullying\n",
       "3  @Jason_Gio meh. :P  thanks for the heads up, b...  not_cyberbullying\n",
       "4  @RudhoeEnglish This is an ISIS account pretend...  not_cyberbullying"
      ]
     },
     "execution_count": 14,
     "metadata": {},
     "output_type": "execute_result"
    }
   ],
   "source": [
    "data.head()"
   ]
  },
  {
   "cell_type": "markdown",
   "id": "47dc16a2",
   "metadata": {},
   "source": [
    "##  In this part we are going to encode each type of cyber bullying type into a number ranging from 1 - 6"
   ]
  },
  {
   "cell_type": "code",
   "execution_count": 15,
   "id": "8731c9e7",
   "metadata": {},
   "outputs": [
    {
     "data": {
      "text/plain": [
       "religion               7998\n",
       "age                    7992\n",
       "gender                 7973\n",
       "ethnicity              7961\n",
       "not_cyberbullying      7945\n",
       "other_cyberbullying    7823\n",
       "Name: Sentiment, dtype: int64"
      ]
     },
     "execution_count": 15,
     "metadata": {},
     "output_type": "execute_result"
    }
   ],
   "source": [
    "data['Sentiment'].value_counts()"
   ]
  },
  {
   "cell_type": "markdown",
   "id": "448f28d2",
   "metadata": {},
   "source": [
    "## The encoding will be done as follows:\n",
    "#### 1.religion                          1\n",
    "#### 2.age                                 2\n",
    "#### 3.gender                           3\n",
    "#### 4.ethnicity                        4\n",
    "#### 5.not_cyberbullying        5 \n",
    "#### 6.other_cyberbullying    6"
   ]
  },
  {
   "cell_type": "code",
   "execution_count": 16,
   "id": "8b0c1dcf",
   "metadata": {},
   "outputs": [
    {
     "data": {
      "text/html": [
       "<div>\n",
       "<style scoped>\n",
       "    .dataframe tbody tr th:only-of-type {\n",
       "        vertical-align: middle;\n",
       "    }\n",
       "\n",
       "    .dataframe tbody tr th {\n",
       "        vertical-align: top;\n",
       "    }\n",
       "\n",
       "    .dataframe thead th {\n",
       "        text-align: right;\n",
       "    }\n",
       "</style>\n",
       "<table border=\"1\" class=\"dataframe\">\n",
       "  <thead>\n",
       "    <tr style=\"text-align: right;\">\n",
       "      <th></th>\n",
       "      <th>Text</th>\n",
       "      <th>Sentiment</th>\n",
       "      <th>Sentiment_encoded</th>\n",
       "    </tr>\n",
       "  </thead>\n",
       "  <tbody>\n",
       "    <tr>\n",
       "      <th>0</th>\n",
       "      <td>In other words #katandandre, your food was cra...</td>\n",
       "      <td>not_cyberbullying</td>\n",
       "      <td>3</td>\n",
       "    </tr>\n",
       "    <tr>\n",
       "      <th>1</th>\n",
       "      <td>Why is #aussietv so white? #MKR #theblock #ImA...</td>\n",
       "      <td>not_cyberbullying</td>\n",
       "      <td>3</td>\n",
       "    </tr>\n",
       "    <tr>\n",
       "      <th>2</th>\n",
       "      <td>@XochitlSuckkks a classy whore? Or more red ve...</td>\n",
       "      <td>not_cyberbullying</td>\n",
       "      <td>3</td>\n",
       "    </tr>\n",
       "    <tr>\n",
       "      <th>3</th>\n",
       "      <td>@Jason_Gio meh. :P  thanks for the heads up, b...</td>\n",
       "      <td>not_cyberbullying</td>\n",
       "      <td>3</td>\n",
       "    </tr>\n",
       "    <tr>\n",
       "      <th>4</th>\n",
       "      <td>@RudhoeEnglish This is an ISIS account pretend...</td>\n",
       "      <td>not_cyberbullying</td>\n",
       "      <td>3</td>\n",
       "    </tr>\n",
       "    <tr>\n",
       "      <th>5</th>\n",
       "      <td>@Raja5aab @Quickieleaks Yes, the test of god i...</td>\n",
       "      <td>not_cyberbullying</td>\n",
       "      <td>3</td>\n",
       "    </tr>\n",
       "    <tr>\n",
       "      <th>6</th>\n",
       "      <td>Itu sekolah ya bukan tempat bully! Ga jauh kay...</td>\n",
       "      <td>not_cyberbullying</td>\n",
       "      <td>3</td>\n",
       "    </tr>\n",
       "    <tr>\n",
       "      <th>7</th>\n",
       "      <td>Karma. I hope it bites Kat on the butt. She is...</td>\n",
       "      <td>not_cyberbullying</td>\n",
       "      <td>3</td>\n",
       "    </tr>\n",
       "    <tr>\n",
       "      <th>8</th>\n",
       "      <td>@stockputout everything but mostly my priest</td>\n",
       "      <td>not_cyberbullying</td>\n",
       "      <td>3</td>\n",
       "    </tr>\n",
       "    <tr>\n",
       "      <th>9</th>\n",
       "      <td>Rebecca Black Drops Out of School Due to Bully...</td>\n",
       "      <td>not_cyberbullying</td>\n",
       "      <td>3</td>\n",
       "    </tr>\n",
       "    <tr>\n",
       "      <th>10</th>\n",
       "      <td>@Jord_Is_Dead http://t.co/UsQInYW5Gn</td>\n",
       "      <td>not_cyberbullying</td>\n",
       "      <td>3</td>\n",
       "    </tr>\n",
       "    <tr>\n",
       "      <th>11</th>\n",
       "      <td>The Bully flushes on KD http://twitvid.com/A2TNP</td>\n",
       "      <td>not_cyberbullying</td>\n",
       "      <td>3</td>\n",
       "    </tr>\n",
       "    <tr>\n",
       "      <th>12</th>\n",
       "      <td>Ughhhh #MKR</td>\n",
       "      <td>not_cyberbullying</td>\n",
       "      <td>3</td>\n",
       "    </tr>\n",
       "    <tr>\n",
       "      <th>13</th>\n",
       "      <td>RT @Kurdsnews: Turkish state has killed 241 ch...</td>\n",
       "      <td>not_cyberbullying</td>\n",
       "      <td>3</td>\n",
       "    </tr>\n",
       "    <tr>\n",
       "      <th>14</th>\n",
       "      <td>Love that the best response to the hotcakes th...</td>\n",
       "      <td>not_cyberbullying</td>\n",
       "      <td>3</td>\n",
       "    </tr>\n",
       "  </tbody>\n",
       "</table>\n",
       "</div>"
      ],
      "text/plain": [
       "                                                 Text          Sentiment  \\\n",
       "0   In other words #katandandre, your food was cra...  not_cyberbullying   \n",
       "1   Why is #aussietv so white? #MKR #theblock #ImA...  not_cyberbullying   \n",
       "2   @XochitlSuckkks a classy whore? Or more red ve...  not_cyberbullying   \n",
       "3   @Jason_Gio meh. :P  thanks for the heads up, b...  not_cyberbullying   \n",
       "4   @RudhoeEnglish This is an ISIS account pretend...  not_cyberbullying   \n",
       "5   @Raja5aab @Quickieleaks Yes, the test of god i...  not_cyberbullying   \n",
       "6   Itu sekolah ya bukan tempat bully! Ga jauh kay...  not_cyberbullying   \n",
       "7   Karma. I hope it bites Kat on the butt. She is...  not_cyberbullying   \n",
       "8        @stockputout everything but mostly my priest  not_cyberbullying   \n",
       "9   Rebecca Black Drops Out of School Due to Bully...  not_cyberbullying   \n",
       "10               @Jord_Is_Dead http://t.co/UsQInYW5Gn  not_cyberbullying   \n",
       "11   The Bully flushes on KD http://twitvid.com/A2TNP  not_cyberbullying   \n",
       "12                                        Ughhhh #MKR  not_cyberbullying   \n",
       "13  RT @Kurdsnews: Turkish state has killed 241 ch...  not_cyberbullying   \n",
       "14  Love that the best response to the hotcakes th...  not_cyberbullying   \n",
       "\n",
       "    Sentiment_encoded  \n",
       "0                   3  \n",
       "1                   3  \n",
       "2                   3  \n",
       "3                   3  \n",
       "4                   3  \n",
       "5                   3  \n",
       "6                   3  \n",
       "7                   3  \n",
       "8                   3  \n",
       "9                   3  \n",
       "10                  3  \n",
       "11                  3  \n",
       "12                  3  \n",
       "13                  3  \n",
       "14                  3  "
      ]
     },
     "execution_count": 16,
     "metadata": {},
     "output_type": "execute_result"
    }
   ],
   "source": [
    "labelencoder=LabelEncoder()\n",
    "\n",
    "#data.drop('Encoded_Sentiment',inplace=True, axis=1)\n",
    "\n",
    "\n",
    "data['Sentiment_encoded']=labelencoder.fit_transform(data['Sentiment'])\n",
    "data.head(15)"
   ]
  },
  {
   "cell_type": "code",
   "execution_count": 17,
   "id": "dc5c8a7d",
   "metadata": {
    "scrolled": true
   },
   "outputs": [
    {
     "data": {
      "text/plain": [
       "Sentiment            Sentiment_encoded\n",
       "religion             5                    7998\n",
       "age                  0                    7992\n",
       "gender               2                    7973\n",
       "ethnicity            1                    7961\n",
       "not_cyberbullying    3                    7945\n",
       "other_cyberbullying  4                    7823\n",
       "dtype: int64"
      ]
     },
     "execution_count": 17,
     "metadata": {},
     "output_type": "execute_result"
    }
   ],
   "source": [
    "data[['Sentiment','Sentiment_encoded']].value_counts()"
   ]
  },
  {
   "cell_type": "code",
   "execution_count": 18,
   "id": "95f7b108",
   "metadata": {},
   "outputs": [],
   "source": [
    "stop_words=set(stopwords.words('english'))"
   ]
  },
  {
   "cell_type": "markdown",
   "id": "341f6ebc",
   "metadata": {},
   "source": [
    "## < /JAZIM>"
   ]
  },
  {
   "cell_type": "markdown",
   "id": "d9529437",
   "metadata": {},
   "source": [
    "## < NANDU>"
   ]
  },
  {
   "cell_type": "markdown",
   "id": "6d487e5b",
   "metadata": {},
   "source": [
    "# Preprocessing of text in the data set\n"
   ]
  },
  {
   "cell_type": "markdown",
   "id": "84088c67",
   "metadata": {},
   "source": [
    "### Function to remove emojis"
   ]
  },
  {
   "cell_type": "code",
   "execution_count": 19,
   "id": "f301c43c",
   "metadata": {},
   "outputs": [],
   "source": [
    "def strip_emoji(text):\n",
    "    return emoji.replace_emoji(text,replace='')"
   ]
  },
  {
   "cell_type": "markdown",
   "id": "d017c136",
   "metadata": {},
   "source": [
    "## Function to convert text to lower case, remove(/r, /n character), URLs, non-utf characters, number, punctuation, stopwords"
   ]
  },
  {
   "cell_type": "code",
   "execution_count": 20,
   "id": "a1291797",
   "metadata": {},
   "outputs": [],
   "source": [
    "def strip_all_entities(text):\n",
    "    text = text.replace('\\r','').replace('\\n',' ').lower()\n",
    "    text = re.sub(r\"(?:\\@|https?\\://)\\S+\", \"\", text)\n",
    "    text = re.sub(r'[^\\x00-\\x7f]',r'', text)\n",
    "    text = re.sub(r'(.)1+',r'1',text)\n",
    "    text = re.sub('[0-9]+', '',text)\n",
    "    stopchars = string.punctuation\n",
    "    table = str.maketrans('', '',stopchars)\n",
    "    text = text.translate(table)\n",
    "    text = [word for word in text.split() if word not in stop_words]\n",
    "    text = ' '.join(text)\n",
    "    return text"
   ]
  },
  {
   "cell_type": "markdown",
   "id": "76ebf435",
   "metadata": {},
   "source": [
    "## Functions to remove contractions"
   ]
  },
  {
   "cell_type": "code",
   "execution_count": 21,
   "id": "0f4a4232",
   "metadata": {},
   "outputs": [],
   "source": [
    "def decontract(text):\n",
    "    text = re.sub(r\"can\\'t\",\" cannot\", text)\n",
    "    text = re.sub(r\"n\\'t\",\" not\", text)\n",
    "    text = re.sub(r\"\\'re\",\" are\", text)\n",
    "    text = re.sub(r\"\\'s\",\" is\", text)\n",
    "    text = re.sub(r\"\\'d\",\" would\", text)\n",
    "    text = re.sub(r\"\\'ll\",\" will\", text)\n",
    "    text = re.sub(r\"\\'t\",\" not\", text)\n",
    "    text = re.sub(r\"\\'ve\",\" have\", text)\n",
    "    text = re.sub(r\"\\'m\",\" am\", text)\n",
    "    return text"
   ]
  },
  {
   "cell_type": "markdown",
   "id": "b8cdc825",
   "metadata": {},
   "source": [
    "## Function to clean hashtags"
   ]
  },
  {
   "cell_type": "code",
   "execution_count": 22,
   "id": "c6dcf4f8",
   "metadata": {},
   "outputs": [],
   "source": [
    "def clean_hashtags(tweet):\n",
    "    new_tweet = \" \".join(word.strip() for word in re.split('#(?!(?:hastags)\\b)[\\w-]+(?=(?:\\s+#[w-]+)*\\s*$)', tweet))\n",
    "    new_tweet2 = \" \".join(word.strip() for word in re.split('#|_', new_tweet))\n",
    "    return new_tweet2"
   ]
  },
  {
   "cell_type": "markdown",
   "id": "2b1773ac",
   "metadata": {},
   "source": [
    "## Function to filter special character such as dollar and &"
   ]
  },
  {
   "cell_type": "code",
   "execution_count": 23,
   "id": "91614882",
   "metadata": {},
   "outputs": [],
   "source": [
    "def filter_chars(a):\n",
    "    sent = []\n",
    "    for word in a.split(' '):\n",
    "        if( '$' in word )  | ('&' in word):\n",
    "            sent.append('')\n",
    "        else:\n",
    "            sent.append(word)\n",
    "    return ' '.join(sent)"
   ]
  },
  {
   "cell_type": "markdown",
   "id": "2d300de0",
   "metadata": {},
   "source": [
    "## Function to remove multiple sequence spaces"
   ]
  },
  {
   "cell_type": "code",
   "execution_count": 24,
   "id": "a9c23079",
   "metadata": {},
   "outputs": [],
   "source": [
    "def remove_mult_spaces(text):\n",
    "    return re.sub(\"\\s\\s+\", \" \", text)"
   ]
  },
  {
   "cell_type": "markdown",
   "id": "33eeca25",
   "metadata": {},
   "source": [
    "## Function to apply stemming to words"
   ]
  },
  {
   "cell_type": "code",
   "execution_count": 25,
   "id": "b15bab02",
   "metadata": {},
   "outputs": [],
   "source": [
    "def stemmer(text):\n",
    "    tokenized = nltk.word_tokenize(text)\n",
    "    ps = PorterStemmer()\n",
    "    return ' '.join([ps.stem(words) for words in tokenized])"
   ]
  },
  {
   "cell_type": "markdown",
   "id": "a49f0a32",
   "metadata": {},
   "source": [
    "## Function to apply lemmatization to words"
   ]
  },
  {
   "cell_type": "code",
   "execution_count": 26,
   "id": "d775846a",
   "metadata": {},
   "outputs": [],
   "source": [
    "def lemmatize(text):\n",
    "    tokenized = nltk.word_tokenize(text)\n",
    "    lm = WordNetLemmatizer()\n",
    "    return ' '.join([lm.lemmatize(words) for words in tokenized])"
   ]
  },
  {
   "cell_type": "markdown",
   "id": "8397bb47",
   "metadata": {},
   "source": [
    "# A super function which will be used to preprocess text by applying all the above functions:"
   ]
  },
  {
   "cell_type": "code",
   "execution_count": 27,
   "id": "64285012",
   "metadata": {},
   "outputs": [],
   "source": [
    "def preprocess(text):\n",
    "    text = strip_emoji(text)\n",
    "    text = decontract(text)\n",
    "    text = strip_all_entities(text)\n",
    "    text = clean_hashtags(text)\n",
    "    text = filter_chars(text)\n",
    "    text = remove_mult_spaces(text)\n",
    "    text = stemmer(text)\n",
    "    text = lemmatize(text)\n",
    "    return text"
   ]
  },
  {
   "cell_type": "code",
   "execution_count": 28,
   "id": "c947147a",
   "metadata": {},
   "outputs": [
    {
     "data": {
      "text/html": [
       "<div>\n",
       "<style scoped>\n",
       "    .dataframe tbody tr th:only-of-type {\n",
       "        vertical-align: middle;\n",
       "    }\n",
       "\n",
       "    .dataframe tbody tr th {\n",
       "        vertical-align: top;\n",
       "    }\n",
       "\n",
       "    .dataframe thead th {\n",
       "        text-align: right;\n",
       "    }\n",
       "</style>\n",
       "<table border=\"1\" class=\"dataframe\">\n",
       "  <thead>\n",
       "    <tr style=\"text-align: right;\">\n",
       "      <th></th>\n",
       "      <th>Text</th>\n",
       "      <th>Sentiment</th>\n",
       "      <th>Sentiment_encoded</th>\n",
       "      <th>Cleaned_Text</th>\n",
       "    </tr>\n",
       "  </thead>\n",
       "  <tbody>\n",
       "    <tr>\n",
       "      <th>0</th>\n",
       "      <td>In other words #katandandre, your food was cra...</td>\n",
       "      <td>not_cyberbullying</td>\n",
       "      <td>3</td>\n",
       "      <td>word katandandr food crapilici mkr</td>\n",
       "    </tr>\n",
       "    <tr>\n",
       "      <th>1</th>\n",
       "      <td>Why is #aussietv so white? #MKR #theblock #ImA...</td>\n",
       "      <td>not_cyberbullying</td>\n",
       "      <td>3</td>\n",
       "      <td>aussietv white mkr theblock imacelebrityau tod...</td>\n",
       "    </tr>\n",
       "    <tr>\n",
       "      <th>2</th>\n",
       "      <td>@XochitlSuckkks a classy whore? Or more red ve...</td>\n",
       "      <td>not_cyberbullying</td>\n",
       "      <td>3</td>\n",
       "      <td>classi whore red velvet cupcak</td>\n",
       "    </tr>\n",
       "    <tr>\n",
       "      <th>3</th>\n",
       "      <td>@Jason_Gio meh. :P  thanks for the heads up, b...</td>\n",
       "      <td>not_cyberbullying</td>\n",
       "      <td>3</td>\n",
       "      <td>meh p thank head concern anoth angri dude twitter</td>\n",
       "    </tr>\n",
       "    <tr>\n",
       "      <th>4</th>\n",
       "      <td>@RudhoeEnglish This is an ISIS account pretend...</td>\n",
       "      <td>not_cyberbullying</td>\n",
       "      <td>3</td>\n",
       "      <td>isi account pretend kurdish account like islam...</td>\n",
       "    </tr>\n",
       "    <tr>\n",
       "      <th>5</th>\n",
       "      <td>@Raja5aab @Quickieleaks Yes, the test of god i...</td>\n",
       "      <td>not_cyberbullying</td>\n",
       "      <td>3</td>\n",
       "      <td>ye test god good bad indiffer weird whatev pro...</td>\n",
       "    </tr>\n",
       "    <tr>\n",
       "      <th>6</th>\n",
       "      <td>Itu sekolah ya bukan tempat bully! Ga jauh kay...</td>\n",
       "      <td>not_cyberbullying</td>\n",
       "      <td>3</td>\n",
       "      <td>itu sekolah ya bukan tempat bulli ga jauh kaya...</td>\n",
       "    </tr>\n",
       "    <tr>\n",
       "      <th>7</th>\n",
       "      <td>Karma. I hope it bites Kat on the butt. She is...</td>\n",
       "      <td>not_cyberbullying</td>\n",
       "      <td>3</td>\n",
       "      <td>karma hope bite kat butt nasti mkr</td>\n",
       "    </tr>\n",
       "    <tr>\n",
       "      <th>8</th>\n",
       "      <td>@stockputout everything but mostly my priest</td>\n",
       "      <td>not_cyberbullying</td>\n",
       "      <td>3</td>\n",
       "      <td>everyth mostli priest</td>\n",
       "    </tr>\n",
       "    <tr>\n",
       "      <th>9</th>\n",
       "      <td>Rebecca Black Drops Out of School Due to Bully...</td>\n",
       "      <td>not_cyberbullying</td>\n",
       "      <td>3</td>\n",
       "      <td>rebecca black drop school due bulli</td>\n",
       "    </tr>\n",
       "  </tbody>\n",
       "</table>\n",
       "</div>"
      ],
      "text/plain": [
       "                                                Text          Sentiment  \\\n",
       "0  In other words #katandandre, your food was cra...  not_cyberbullying   \n",
       "1  Why is #aussietv so white? #MKR #theblock #ImA...  not_cyberbullying   \n",
       "2  @XochitlSuckkks a classy whore? Or more red ve...  not_cyberbullying   \n",
       "3  @Jason_Gio meh. :P  thanks for the heads up, b...  not_cyberbullying   \n",
       "4  @RudhoeEnglish This is an ISIS account pretend...  not_cyberbullying   \n",
       "5  @Raja5aab @Quickieleaks Yes, the test of god i...  not_cyberbullying   \n",
       "6  Itu sekolah ya bukan tempat bully! Ga jauh kay...  not_cyberbullying   \n",
       "7  Karma. I hope it bites Kat on the butt. She is...  not_cyberbullying   \n",
       "8       @stockputout everything but mostly my priest  not_cyberbullying   \n",
       "9  Rebecca Black Drops Out of School Due to Bully...  not_cyberbullying   \n",
       "\n",
       "   Sentiment_encoded                                       Cleaned_Text  \n",
       "0                  3                 word katandandr food crapilici mkr  \n",
       "1                  3  aussietv white mkr theblock imacelebrityau tod...  \n",
       "2                  3                     classi whore red velvet cupcak  \n",
       "3                  3  meh p thank head concern anoth angri dude twitter  \n",
       "4                  3  isi account pretend kurdish account like islam...  \n",
       "5                  3  ye test god good bad indiffer weird whatev pro...  \n",
       "6                  3  itu sekolah ya bukan tempat bulli ga jauh kaya...  \n",
       "7                  3                 karma hope bite kat butt nasti mkr  \n",
       "8                  3                              everyth mostli priest  \n",
       "9                  3                rebecca black drop school due bulli  "
      ]
     },
     "execution_count": 28,
     "metadata": {},
     "output_type": "execute_result"
    }
   ],
   "source": [
    "data['Cleaned_Text'] = data['Text'].apply(preprocess)\n",
    "data.head(10)"
   ]
  },
  {
   "cell_type": "markdown",
   "id": "8aa6d561",
   "metadata": {},
   "source": [
    "## Cleaned text from the tweets have been added in the data frame"
   ]
  },
  {
   "cell_type": "markdown",
   "id": "310879c2",
   "metadata": {},
   "source": [
    "## Dealing with duplicate text in the data frame"
   ]
  },
  {
   "cell_type": "code",
   "execution_count": 29,
   "id": "3b5c04d9",
   "metadata": {},
   "outputs": [
    {
     "data": {
      "text/plain": [
       "1675"
      ]
     },
     "execution_count": 29,
     "metadata": {},
     "output_type": "execute_result"
    }
   ],
   "source": [
    "data['Text'].duplicated().sum()"
   ]
  },
  {
   "cell_type": "code",
   "execution_count": 30,
   "id": "9b3049e1",
   "metadata": {},
   "outputs": [
    {
     "data": {
      "text/plain": [
       "3041"
      ]
     },
     "execution_count": 30,
     "metadata": {},
     "output_type": "execute_result"
    }
   ],
   "source": [
    "data['Cleaned_Text'].duplicated().sum()"
   ]
  },
  {
   "cell_type": "code",
   "execution_count": 31,
   "id": "b4bc1e1b",
   "metadata": {},
   "outputs": [],
   "source": [
    "data.drop_duplicates('Cleaned_Text',inplace = True)"
   ]
  },
  {
   "cell_type": "markdown",
   "id": "b823e2d7",
   "metadata": {},
   "source": [
    "## Tokenization of words"
   ]
  },
  {
   "cell_type": "code",
   "execution_count": 32,
   "id": "1757ec61",
   "metadata": {
    "scrolled": true
   },
   "outputs": [
    {
     "data": {
      "text/html": [
       "<div>\n",
       "<style scoped>\n",
       "    .dataframe tbody tr th:only-of-type {\n",
       "        vertical-align: middle;\n",
       "    }\n",
       "\n",
       "    .dataframe tbody tr th {\n",
       "        vertical-align: top;\n",
       "    }\n",
       "\n",
       "    .dataframe thead th {\n",
       "        text-align: right;\n",
       "    }\n",
       "</style>\n",
       "<table border=\"1\" class=\"dataframe\">\n",
       "  <thead>\n",
       "    <tr style=\"text-align: right;\">\n",
       "      <th></th>\n",
       "      <th>Text</th>\n",
       "      <th>Sentiment</th>\n",
       "      <th>Sentiment_encoded</th>\n",
       "      <th>Cleaned_Text</th>\n",
       "      <th>words_list</th>\n",
       "    </tr>\n",
       "  </thead>\n",
       "  <tbody>\n",
       "    <tr>\n",
       "      <th>0</th>\n",
       "      <td>In other words #katandandre, your food was cra...</td>\n",
       "      <td>not_cyberbullying</td>\n",
       "      <td>3</td>\n",
       "      <td>word katandandr food crapilici mkr</td>\n",
       "      <td>[word, katandandr, food, crapilici, mkr]</td>\n",
       "    </tr>\n",
       "    <tr>\n",
       "      <th>1</th>\n",
       "      <td>Why is #aussietv so white? #MKR #theblock #ImA...</td>\n",
       "      <td>not_cyberbullying</td>\n",
       "      <td>3</td>\n",
       "      <td>aussietv white mkr theblock imacelebrityau tod...</td>\n",
       "      <td>[aussietv, white, mkr, theblock, imacelebritya...</td>\n",
       "    </tr>\n",
       "    <tr>\n",
       "      <th>2</th>\n",
       "      <td>@XochitlSuckkks a classy whore? Or more red ve...</td>\n",
       "      <td>not_cyberbullying</td>\n",
       "      <td>3</td>\n",
       "      <td>classi whore red velvet cupcak</td>\n",
       "      <td>[classi, whore, red, velvet, cupcak]</td>\n",
       "    </tr>\n",
       "    <tr>\n",
       "      <th>3</th>\n",
       "      <td>@Jason_Gio meh. :P  thanks for the heads up, b...</td>\n",
       "      <td>not_cyberbullying</td>\n",
       "      <td>3</td>\n",
       "      <td>meh p thank head concern anoth angri dude twitter</td>\n",
       "      <td>[meh, p, thank, head, concern, anoth, angri, d...</td>\n",
       "    </tr>\n",
       "    <tr>\n",
       "      <th>4</th>\n",
       "      <td>@RudhoeEnglish This is an ISIS account pretend...</td>\n",
       "      <td>not_cyberbullying</td>\n",
       "      <td>3</td>\n",
       "      <td>isi account pretend kurdish account like islam...</td>\n",
       "      <td>[isi, account, pretend, kurdish, account, like...</td>\n",
       "    </tr>\n",
       "    <tr>\n",
       "      <th>...</th>\n",
       "      <td>...</td>\n",
       "      <td>...</td>\n",
       "      <td>...</td>\n",
       "      <td>...</td>\n",
       "      <td>...</td>\n",
       "    </tr>\n",
       "    <tr>\n",
       "      <th>47687</th>\n",
       "      <td>Black ppl aren't expected to do anything, depe...</td>\n",
       "      <td>ethnicity</td>\n",
       "      <td>1</td>\n",
       "      <td>black ppl expect anyth depend anyth yet free p...</td>\n",
       "      <td>[black, ppl, expect, anyth, depend, anyth, yet...</td>\n",
       "    </tr>\n",
       "    <tr>\n",
       "      <th>47688</th>\n",
       "      <td>Turner did not withhold his disappointment. Tu...</td>\n",
       "      <td>ethnicity</td>\n",
       "      <td>1</td>\n",
       "      <td>turner withhold disappoint turner call court a...</td>\n",
       "      <td>[turner, withhold, disappoint, turner, call, c...</td>\n",
       "    </tr>\n",
       "    <tr>\n",
       "      <th>47689</th>\n",
       "      <td>I swear to God. This dumb nigger bitch. I have...</td>\n",
       "      <td>ethnicity</td>\n",
       "      <td>1</td>\n",
       "      <td>swear god dumb nigger bitch got bleach hair re...</td>\n",
       "      <td>[swear, god, dumb, nigger, bitch, got, bleach,...</td>\n",
       "    </tr>\n",
       "    <tr>\n",
       "      <th>47690</th>\n",
       "      <td>Yea fuck you RT @therealexel: IF YOURE A NIGGE...</td>\n",
       "      <td>ethnicity</td>\n",
       "      <td>1</td>\n",
       "      <td>yea fuck rt your nigger fuck unfollow fuck dum...</td>\n",
       "      <td>[yea, fuck, rt, your, nigger, fuck, unfollow, ...</td>\n",
       "    </tr>\n",
       "    <tr>\n",
       "      <th>47691</th>\n",
       "      <td>Bro. U gotta chill RT @CHILLShrammy: Dog FUCK ...</td>\n",
       "      <td>ethnicity</td>\n",
       "      <td>1</td>\n",
       "      <td>bro u got ta chill rt dog fuck kp dumb nigger ...</td>\n",
       "      <td>[bro, u, got, ta, chill, rt, dog, fuck, kp, du...</td>\n",
       "    </tr>\n",
       "  </tbody>\n",
       "</table>\n",
       "<p>44651 rows × 5 columns</p>\n",
       "</div>"
      ],
      "text/plain": [
       "                                                    Text          Sentiment  \\\n",
       "0      In other words #katandandre, your food was cra...  not_cyberbullying   \n",
       "1      Why is #aussietv so white? #MKR #theblock #ImA...  not_cyberbullying   \n",
       "2      @XochitlSuckkks a classy whore? Or more red ve...  not_cyberbullying   \n",
       "3      @Jason_Gio meh. :P  thanks for the heads up, b...  not_cyberbullying   \n",
       "4      @RudhoeEnglish This is an ISIS account pretend...  not_cyberbullying   \n",
       "...                                                  ...                ...   \n",
       "47687  Black ppl aren't expected to do anything, depe...          ethnicity   \n",
       "47688  Turner did not withhold his disappointment. Tu...          ethnicity   \n",
       "47689  I swear to God. This dumb nigger bitch. I have...          ethnicity   \n",
       "47690  Yea fuck you RT @therealexel: IF YOURE A NIGGE...          ethnicity   \n",
       "47691  Bro. U gotta chill RT @CHILLShrammy: Dog FUCK ...          ethnicity   \n",
       "\n",
       "       Sentiment_encoded                                       Cleaned_Text  \\\n",
       "0                      3                 word katandandr food crapilici mkr   \n",
       "1                      3  aussietv white mkr theblock imacelebrityau tod...   \n",
       "2                      3                     classi whore red velvet cupcak   \n",
       "3                      3  meh p thank head concern anoth angri dude twitter   \n",
       "4                      3  isi account pretend kurdish account like islam...   \n",
       "...                  ...                                                ...   \n",
       "47687                  1  black ppl expect anyth depend anyth yet free p...   \n",
       "47688                  1  turner withhold disappoint turner call court a...   \n",
       "47689                  1  swear god dumb nigger bitch got bleach hair re...   \n",
       "47690                  1  yea fuck rt your nigger fuck unfollow fuck dum...   \n",
       "47691                  1  bro u got ta chill rt dog fuck kp dumb nigger ...   \n",
       "\n",
       "                                              words_list  \n",
       "0               [word, katandandr, food, crapilici, mkr]  \n",
       "1      [aussietv, white, mkr, theblock, imacelebritya...  \n",
       "2                   [classi, whore, red, velvet, cupcak]  \n",
       "3      [meh, p, thank, head, concern, anoth, angri, d...  \n",
       "4      [isi, account, pretend, kurdish, account, like...  \n",
       "...                                                  ...  \n",
       "47687  [black, ppl, expect, anyth, depend, anyth, yet...  \n",
       "47688  [turner, withhold, disappoint, turner, call, c...  \n",
       "47689  [swear, god, dumb, nigger, bitch, got, bleach,...  \n",
       "47690  [yea, fuck, rt, your, nigger, fuck, unfollow, ...  \n",
       "47691  [bro, u, got, ta, chill, rt, dog, fuck, kp, du...  \n",
       "\n",
       "[44651 rows x 5 columns]"
      ]
     },
     "execution_count": 32,
     "metadata": {},
     "output_type": "execute_result"
    }
   ],
   "source": [
    "data['words_list'] = data['Cleaned_Text'].apply(word_tokenize)\n",
    "data"
   ]
  },
  {
   "cell_type": "markdown",
   "id": "81b7b508",
   "metadata": {},
   "source": [
    "# < /NANDU >"
   ]
  },
  {
   "cell_type": "markdown",
   "id": "5f18d620",
   "metadata": {},
   "source": [
    "# < SAJIDHA>"
   ]
  },
  {
   "cell_type": "markdown",
   "id": "887b89d6",
   "metadata": {},
   "source": [
    "# VISUALIZATION OF THE DATA "
   ]
  },
  {
   "cell_type": "code",
   "execution_count": 33,
   "id": "a5e00b56",
   "metadata": {},
   "outputs": [],
   "source": [
    "length = []\n",
    "for text in data.words_list:\n",
    "    tweet_len = len(text)\n",
    "    length.append(tweet_len)\n",
    "data['length'] = length"
   ]
  },
  {
   "cell_type": "code",
   "execution_count": 34,
   "id": "4900444c",
   "metadata": {},
   "outputs": [
    {
     "data": {
      "text/plain": [
       "count    44651.000000\n",
       "mean        13.376251\n",
       "std          8.373548\n",
       "min          0.000000\n",
       "25%          7.000000\n",
       "50%         12.000000\n",
       "75%         19.000000\n",
       "max        384.000000\n",
       "Name: length, dtype: float64"
      ]
     },
     "execution_count": 34,
     "metadata": {},
     "output_type": "execute_result"
    }
   ],
   "source": [
    "data['length'].describe()"
   ]
  },
  {
   "cell_type": "code",
   "execution_count": 35,
   "id": "b3e4ad50",
   "metadata": {},
   "outputs": [
    {
     "data": {
      "text/plain": [
       "<AxesSubplot:xlabel='length'>"
      ]
     },
     "execution_count": 35,
     "metadata": {},
     "output_type": "execute_result"
    },
    {
     "data": {
      "image/png": "[encoded data removed]",
      "text/plain": [
       "<Figure size 1440x864 with 1 Axes>"
      ]
     },
     "metadata": {
      "needs_background": "light"
     },
     "output_type": "display_data"
    }
   ],
   "source": [
    "plt.figure(figsize=(20,12))\n",
    "sns.boxplot(x='length', data=data)"
   ]
  },
  {
   "cell_type": "code",
   "execution_count": 36,
   "id": "af49da63",
   "metadata": {},
   "outputs": [
    {
     "data": {
      "image/png": "[encoded data removed]",
      "text/plain": [
       "<Figure size 1440x864 with 1 Axes>"
      ]
     },
     "metadata": {
      "needs_background": "light"
     },
     "output_type": "display_data"
    }
   ],
   "source": [
    "plt.figure(figsize=(20,12))\n",
    "ax = sns.countplot(x='length', data=data, palette='rocket_r')"
   ]
  },
  {
   "cell_type": "code",
   "execution_count": 37,
   "id": "b2a053f2",
   "metadata": {},
   "outputs": [
    {
     "data": {
      "text/plain": [
       "(44651, 6)"
      ]
     },
     "execution_count": 37,
     "metadata": {},
     "output_type": "execute_result"
    }
   ],
   "source": [
    "data.shape"
   ]
  },
  {
   "cell_type": "markdown",
   "id": "82f69754",
   "metadata": {},
   "source": [
    "#  Function to create a WordCloud"
   ]
  },
  {
   "cell_type": "code",
   "execution_count": null,
   "id": "0588ea8f",
   "metadata": {},
   "outputs": [],
   "source": []
  },
  {
   "cell_type": "code",
   "execution_count": 38,
   "id": "384c33c3",
   "metadata": {
    "scrolled": false
   },
   "outputs": [
    {
     "data": {
      "text/html": [
       "<div>\n",
       "<style scoped>\n",
       "    .dataframe tbody tr th:only-of-type {\n",
       "        vertical-align: middle;\n",
       "    }\n",
       "\n",
       "    .dataframe tbody tr th {\n",
       "        vertical-align: top;\n",
       "    }\n",
       "\n",
       "    .dataframe thead th {\n",
       "        text-align: right;\n",
       "    }\n",
       "</style>\n",
       "<table border=\"1\" class=\"dataframe\">\n",
       "  <thead>\n",
       "    <tr style=\"text-align: right;\">\n",
       "      <th></th>\n",
       "      <th>Text</th>\n",
       "      <th>Sentiment</th>\n",
       "      <th>Sentiment_encoded</th>\n",
       "      <th>Cleaned_Text</th>\n",
       "      <th>words_list</th>\n",
       "      <th>length</th>\n",
       "    </tr>\n",
       "  </thead>\n",
       "  <tbody>\n",
       "    <tr>\n",
       "      <th>0</th>\n",
       "      <td>In other words #katandandre, your food was cra...</td>\n",
       "      <td>not_cyberbullying</td>\n",
       "      <td>3</td>\n",
       "      <td>word katandandr food crapilici mkr</td>\n",
       "      <td>[word, katandandr, food, crapilici, mkr]</td>\n",
       "      <td>5</td>\n",
       "    </tr>\n",
       "    <tr>\n",
       "      <th>1</th>\n",
       "      <td>Why is #aussietv so white? #MKR #theblock #ImA...</td>\n",
       "      <td>not_cyberbullying</td>\n",
       "      <td>3</td>\n",
       "      <td>aussietv white mkr theblock imacelebrityau tod...</td>\n",
       "      <td>[aussietv, white, mkr, theblock, imacelebritya...</td>\n",
       "      <td>11</td>\n",
       "    </tr>\n",
       "    <tr>\n",
       "      <th>2</th>\n",
       "      <td>@XochitlSuckkks a classy whore? Or more red ve...</td>\n",
       "      <td>not_cyberbullying</td>\n",
       "      <td>3</td>\n",
       "      <td>classi whore red velvet cupcak</td>\n",
       "      <td>[classi, whore, red, velvet, cupcak]</td>\n",
       "      <td>5</td>\n",
       "    </tr>\n",
       "    <tr>\n",
       "      <th>3</th>\n",
       "      <td>@Jason_Gio meh. :P  thanks for the heads up, b...</td>\n",
       "      <td>not_cyberbullying</td>\n",
       "      <td>3</td>\n",
       "      <td>meh p thank head concern anoth angri dude twitter</td>\n",
       "      <td>[meh, p, thank, head, concern, anoth, angri, d...</td>\n",
       "      <td>9</td>\n",
       "    </tr>\n",
       "    <tr>\n",
       "      <th>4</th>\n",
       "      <td>@RudhoeEnglish This is an ISIS account pretend...</td>\n",
       "      <td>not_cyberbullying</td>\n",
       "      <td>3</td>\n",
       "      <td>isi account pretend kurdish account like islam...</td>\n",
       "      <td>[isi, account, pretend, kurdish, account, like...</td>\n",
       "      <td>8</td>\n",
       "    </tr>\n",
       "  </tbody>\n",
       "</table>\n",
       "</div>"
      ],
      "text/plain": [
       "                                                Text          Sentiment  \\\n",
       "0  In other words #katandandre, your food was cra...  not_cyberbullying   \n",
       "1  Why is #aussietv so white? #MKR #theblock #ImA...  not_cyberbullying   \n",
       "2  @XochitlSuckkks a classy whore? Or more red ve...  not_cyberbullying   \n",
       "3  @Jason_Gio meh. :P  thanks for the heads up, b...  not_cyberbullying   \n",
       "4  @RudhoeEnglish This is an ISIS account pretend...  not_cyberbullying   \n",
       "\n",
       "   Sentiment_encoded                                       Cleaned_Text  \\\n",
       "0                  3                 word katandandr food crapilici mkr   \n",
       "1                  3  aussietv white mkr theblock imacelebrityau tod...   \n",
       "2                  3                     classi whore red velvet cupcak   \n",
       "3                  3  meh p thank head concern anoth angri dude twitter   \n",
       "4                  3  isi account pretend kurdish account like islam...   \n",
       "\n",
       "                                          words_list  length  \n",
       "0           [word, katandandr, food, crapilici, mkr]       5  \n",
       "1  [aussietv, white, mkr, theblock, imacelebritya...      11  \n",
       "2               [classi, whore, red, velvet, cupcak]       5  \n",
       "3  [meh, p, thank, head, concern, anoth, angri, d...       9  \n",
       "4  [isi, account, pretend, kurdish, account, like...       8  "
      ]
     },
     "execution_count": 38,
     "metadata": {},
     "output_type": "execute_result"
    }
   ],
   "source": [
    "data.head()"
   ]
  },
  {
   "cell_type": "code",
   "execution_count": 39,
   "id": "7b7188cd",
   "metadata": {},
   "outputs": [
    {
     "data": {
      "text/plain": [
       "religion               7952\n",
       "age                    7884\n",
       "ethnicity              7770\n",
       "not_cyberbullying      7646\n",
       "gender                 7620\n",
       "other_cyberbullying    5779\n",
       "Name: Sentiment, dtype: int64"
      ]
     },
     "execution_count": 39,
     "metadata": {},
     "output_type": "execute_result"
    }
   ],
   "source": [
    "data.Sentiment.value_counts()"
   ]
  },
  {
   "cell_type": "code",
   "execution_count": null,
   "id": "afee8c41",
   "metadata": {},
   "outputs": [],
   "source": []
  },
  {
   "cell_type": "markdown",
   "id": "660f145c",
   "metadata": {},
   "source": [
    "## Splitting data based on sentiment for data exploration"
   ]
  },
  {
   "cell_type": "code",
   "execution_count": 40,
   "id": "beb0305d",
   "metadata": {},
   "outputs": [],
   "source": [
    "notcyber_bullying_type = data[data['Sentiment']=='not_cyberbullying']\n",
    "gender_type = data[data['Sentiment']=='gender']\n",
    "religion_type = data[data['Sentiment']=='religion']\n",
    "other_cyberbullying_type = data[data['Sentiment']=='other_cyberbullying']\n",
    "age_type = data[data['Sentiment']=='age']\n",
    "ethnicity_type = data[data['Sentiment']=='ethnicity']"
   ]
  },
  {
   "cell_type": "markdown",
   "id": "41fc8895",
   "metadata": {},
   "source": [
    "# EDA OF THE DATA SET"
   ]
  },
  {
   "cell_type": "markdown",
   "id": "c251c716",
   "metadata": {},
   "source": [
    "## GENDER BASED CYBER BULLYING"
   ]
  },
  {
   "cell_type": "code",
   "execution_count": 41,
   "id": "0cd397cd",
   "metadata": {},
   "outputs": [
    {
     "data": {
      "text/html": [
       "<style type=\"text/css\">\n",
       "#T_d9597_row0_col1 {\n",
       "  background-color: #67000d;\n",
       "  color: #f1f1f1;\n",
       "}\n",
       "#T_d9597_row1_col1 {\n",
       "  background-color: #c5171c;\n",
       "  color: #f1f1f1;\n",
       "}\n",
       "#T_d9597_row2_col1 {\n",
       "  background-color: #d32020;\n",
       "  color: #f1f1f1;\n",
       "}\n",
       "#T_d9597_row3_col1 {\n",
       "  background-color: #fdcab5;\n",
       "  color: #000000;\n",
       "}\n",
       "#T_d9597_row4_col1 {\n",
       "  background-color: #fdd1be;\n",
       "  color: #000000;\n",
       "}\n",
       "#T_d9597_row5_col1 {\n",
       "  background-color: #fdd4c2;\n",
       "  color: #000000;\n",
       "}\n",
       "#T_d9597_row6_col1 {\n",
       "  background-color: #fdd7c6;\n",
       "  color: #000000;\n",
       "}\n",
       "#T_d9597_row7_col1 {\n",
       "  background-color: #fed9c9;\n",
       "  color: #000000;\n",
       "}\n",
       "#T_d9597_row8_col1 {\n",
       "  background-color: #fedbcc;\n",
       "  color: #000000;\n",
       "}\n",
       "#T_d9597_row9_col1, #T_d9597_row10_col1 {\n",
       "  background-color: #fee2d5;\n",
       "  color: #000000;\n",
       "}\n",
       "#T_d9597_row11_col1 {\n",
       "  background-color: #fee3d7;\n",
       "  color: #000000;\n",
       "}\n",
       "#T_d9597_row12_col1, #T_d9597_row13_col1 {\n",
       "  background-color: #ffeee6;\n",
       "  color: #000000;\n",
       "}\n",
       "#T_d9597_row14_col1 {\n",
       "  background-color: #ffefe8;\n",
       "  color: #000000;\n",
       "}\n",
       "#T_d9597_row15_col1, #T_d9597_row16_col1 {\n",
       "  background-color: #fff0e8;\n",
       "  color: #000000;\n",
       "}\n",
       "#T_d9597_row17_col1 {\n",
       "  background-color: #fff1ea;\n",
       "  color: #000000;\n",
       "}\n",
       "#T_d9597_row18_col1 {\n",
       "  background-color: #fff2eb;\n",
       "  color: #000000;\n",
       "}\n",
       "#T_d9597_row19_col1 {\n",
       "  background-color: #fff5f0;\n",
       "  color: #000000;\n",
       "}\n",
       "</style>\n",
       "<table id=\"T_d9597\">\n",
       "  <thead>\n",
       "    <tr>\n",
       "      <th class=\"blank level0\" >&nbsp;</th>\n",
       "      <th id=\"T_d9597_level0_col0\" class=\"col_heading level0 col0\" >Top Words</th>\n",
       "      <th id=\"T_d9597_level0_col1\" class=\"col_heading level0 col1\" >Count</th>\n",
       "    </tr>\n",
       "  </thead>\n",
       "  <tbody>\n",
       "    <tr>\n",
       "      <th id=\"T_d9597_level0_row0\" class=\"row_heading level0 row0\" >0</th>\n",
       "      <td id=\"T_d9597_row0_col0\" class=\"data row0 col0\" >joke</td>\n",
       "      <td id=\"T_d9597_row0_col1\" class=\"data row0 col1\" >5179</td>\n",
       "    </tr>\n",
       "    <tr>\n",
       "      <th id=\"T_d9597_level0_row1\" class=\"row_heading level0 row1\" >1</th>\n",
       "      <td id=\"T_d9597_row1_col0\" class=\"data row1 col0\" >rape</td>\n",
       "      <td id=\"T_d9597_row1_col1\" class=\"data row1 col1\" >4070</td>\n",
       "    </tr>\n",
       "    <tr>\n",
       "      <th id=\"T_d9597_level0_row2\" class=\"row_heading level0 row2\" >2</th>\n",
       "      <td id=\"T_d9597_row2_col0\" class=\"data row2 col0\" >gay</td>\n",
       "      <td id=\"T_d9597_row2_col1\" class=\"data row2 col1\" >3852</td>\n",
       "    </tr>\n",
       "    <tr>\n",
       "      <th id=\"T_d9597_level0_row3\" class=\"row_heading level0 row3\" >3</th>\n",
       "      <td id=\"T_d9597_row3_col0\" class=\"data row3 col0\" >call</td>\n",
       "      <td id=\"T_d9597_row3_col1\" class=\"data row3 col1\" >1401</td>\n",
       "    </tr>\n",
       "    <tr>\n",
       "      <th id=\"T_d9597_level0_row4\" class=\"row_heading level0 row4\" >4</th>\n",
       "      <td id=\"T_d9597_row4_col0\" class=\"data row4 col0\" >make</td>\n",
       "      <td id=\"T_d9597_row4_col1\" class=\"data row4 col1\" >1283</td>\n",
       "    </tr>\n",
       "    <tr>\n",
       "      <th id=\"T_d9597_level0_row5\" class=\"row_heading level0 row5\" >5</th>\n",
       "      <td id=\"T_d9597_row5_col0\" class=\"data row5 col0\" >rt</td>\n",
       "      <td id=\"T_d9597_row5_col1\" class=\"data row5 col1\" >1221</td>\n",
       "    </tr>\n",
       "    <tr>\n",
       "      <th id=\"T_d9597_level0_row6\" class=\"row_heading level0 row6\" >6</th>\n",
       "      <td id=\"T_d9597_row6_col0\" class=\"data row6 col0\" >woman</td>\n",
       "      <td id=\"T_d9597_row6_col1\" class=\"data row6 col1\" >1182</td>\n",
       "    </tr>\n",
       "    <tr>\n",
       "      <th id=\"T_d9597_level0_row7\" class=\"row_heading level0 row7\" >7</th>\n",
       "      <td id=\"T_d9597_row7_col0\" class=\"data row7 col0\" >bitch</td>\n",
       "      <td id=\"T_d9597_row7_col1\" class=\"data row7 col1\" >1146</td>\n",
       "    </tr>\n",
       "    <tr>\n",
       "      <th id=\"T_d9597_level0_row8\" class=\"row_heading level0 row8\" >8</th>\n",
       "      <td id=\"T_d9597_row8_col0\" class=\"data row8 col0\" >femal</td>\n",
       "      <td id=\"T_d9597_row8_col1\" class=\"data row8 col1\" >1108</td>\n",
       "    </tr>\n",
       "    <tr>\n",
       "      <th id=\"T_d9597_level0_row9\" class=\"row_heading level0 row9\" >9</th>\n",
       "      <td id=\"T_d9597_row9_col0\" class=\"data row9 col0\" >peopl</td>\n",
       "      <td id=\"T_d9597_row9_col1\" class=\"data row9 col1\" >988</td>\n",
       "    </tr>\n",
       "    <tr>\n",
       "      <th id=\"T_d9597_level0_row10\" class=\"row_heading level0 row10\" >10</th>\n",
       "      <td id=\"T_d9597_row10_col0\" class=\"data row10 col0\" >like</td>\n",
       "      <td id=\"T_d9597_row10_col1\" class=\"data row10 col1\" >978</td>\n",
       "    </tr>\n",
       "    <tr>\n",
       "      <th id=\"T_d9597_level0_row11\" class=\"row_heading level0 row11\" >11</th>\n",
       "      <td id=\"T_d9597_row11_col0\" class=\"data row11 col0\" >sexist</td>\n",
       "      <td id=\"T_d9597_row11_col1\" class=\"data row11 col1\" >953</td>\n",
       "    </tr>\n",
       "    <tr>\n",
       "      <th id=\"T_d9597_level0_row12\" class=\"row_heading level0 row12\" >12</th>\n",
       "      <td id=\"T_d9597_row12_col0\" class=\"data row12 col0\" >funni</td>\n",
       "      <td id=\"T_d9597_row12_col1\" class=\"data row12 col1\" >662</td>\n",
       "    </tr>\n",
       "    <tr>\n",
       "      <th id=\"T_d9597_level0_row13\" class=\"row_heading level0 row13\" >13</th>\n",
       "      <td id=\"T_d9597_row13_col0\" class=\"data row13 col0\" >mkr</td>\n",
       "      <td id=\"T_d9597_row13_col1\" class=\"data row13 col1\" >659</td>\n",
       "    </tr>\n",
       "    <tr>\n",
       "      <th id=\"T_d9597_level0_row14\" class=\"row_heading level0 row14\" >14</th>\n",
       "      <td id=\"T_d9597_row14_col0\" class=\"data row14 col0\" >men</td>\n",
       "      <td id=\"T_d9597_row14_col1\" class=\"data row14 col1\" >614</td>\n",
       "    </tr>\n",
       "    <tr>\n",
       "      <th id=\"T_d9597_level0_row15\" class=\"row_heading level0 row15\" >15</th>\n",
       "      <td id=\"T_d9597_row15_col0\" class=\"data row15 col0\" >say</td>\n",
       "      <td id=\"T_d9597_row15_col1\" class=\"data row15 col1\" >592</td>\n",
       "    </tr>\n",
       "    <tr>\n",
       "      <th id=\"T_d9597_level0_row16\" class=\"row_heading level0 row16\" >16</th>\n",
       "      <td id=\"T_d9597_row16_col0\" class=\"data row16 col0\" >think</td>\n",
       "      <td id=\"T_d9597_row16_col1\" class=\"data row16 col1\" >592</td>\n",
       "    </tr>\n",
       "    <tr>\n",
       "      <th id=\"T_d9597_level0_row17\" class=\"row_heading level0 row17\" >17</th>\n",
       "      <td id=\"T_d9597_row17_col0\" class=\"data row17 col0\" >get</td>\n",
       "      <td id=\"T_d9597_row17_col1\" class=\"data row17 col1\" >555</td>\n",
       "    </tr>\n",
       "    <tr>\n",
       "      <th id=\"T_d9597_level0_row18\" class=\"row_heading level0 row18\" >18</th>\n",
       "      <td id=\"T_d9597_row18_col0\" class=\"data row18 col0\" >fuck</td>\n",
       "      <td id=\"T_d9597_row18_col1\" class=\"data row18 col1\" >548</td>\n",
       "    </tr>\n",
       "    <tr>\n",
       "      <th id=\"T_d9597_level0_row19\" class=\"row_heading level0 row19\" >19</th>\n",
       "      <td id=\"T_d9597_row19_col0\" class=\"data row19 col0\" >use</td>\n",
       "      <td id=\"T_d9597_row19_col1\" class=\"data row19 col1\" >441</td>\n",
       "    </tr>\n",
       "  </tbody>\n",
       "</table>\n"
      ],
      "text/plain": [
       "<pandas.io.formats.style.Styler at 0x2c038d8d1c0>"
      ]
     },
     "execution_count": 41,
     "metadata": {},
     "output_type": "execute_result"
    }
   ],
   "source": [
    "gender = Counter([item for sublist in gender_type['words_list'] for item in sublist])\n",
    "top20_gender = pd.DataFrame(gender.most_common(20))\n",
    "top20_gender.columns = ['Top Words','Count']\n",
    "top20_gender.style.background_gradient(cmap='Reds')"
   ]
  },
  {
   "cell_type": "code",
   "execution_count": null,
   "id": "70357733",
   "metadata": {},
   "outputs": [],
   "source": []
  },
  {
   "cell_type": "markdown",
   "id": "3ceea024",
   "metadata": {},
   "source": [
    "## RELIGION BASED CYBERBULLYING"
   ]
  },
  {
   "cell_type": "code",
   "execution_count": 42,
   "id": "4a39dc52",
   "metadata": {},
   "outputs": [
    {
     "data": {
      "text/html": [
       "<style type=\"text/css\">\n",
       "#T_800cf_row0_col1 {\n",
       "  background-color: #67000d;\n",
       "  color: #f1f1f1;\n",
       "}\n",
       "#T_800cf_row1_col1 {\n",
       "  background-color: #f0402f;\n",
       "  color: #f1f1f1;\n",
       "}\n",
       "#T_800cf_row2_col1 {\n",
       "  background-color: #fb7b5b;\n",
       "  color: #f1f1f1;\n",
       "}\n",
       "#T_800cf_row3_col1 {\n",
       "  background-color: #fc9474;\n",
       "  color: #000000;\n",
       "}\n",
       "#T_800cf_row4_col1 {\n",
       "  background-color: #fca588;\n",
       "  color: #000000;\n",
       "}\n",
       "#T_800cf_row5_col1 {\n",
       "  background-color: #fdd0bc;\n",
       "  color: #000000;\n",
       "}\n",
       "#T_800cf_row6_col1 {\n",
       "  background-color: #fdd7c6;\n",
       "  color: #000000;\n",
       "}\n",
       "#T_800cf_row7_col1 {\n",
       "  background-color: #fed8c7;\n",
       "  color: #000000;\n",
       "}\n",
       "#T_800cf_row8_col1, #T_800cf_row9_col1 {\n",
       "  background-color: #fedaca;\n",
       "  color: #000000;\n",
       "}\n",
       "#T_800cf_row10_col1 {\n",
       "  background-color: #fedfd0;\n",
       "  color: #000000;\n",
       "}\n",
       "#T_800cf_row11_col1 {\n",
       "  background-color: #fee3d6;\n",
       "  color: #000000;\n",
       "}\n",
       "#T_800cf_row12_col1 {\n",
       "  background-color: #fee4d8;\n",
       "  color: #000000;\n",
       "}\n",
       "#T_800cf_row13_col1 {\n",
       "  background-color: #ffefe8;\n",
       "  color: #000000;\n",
       "}\n",
       "#T_800cf_row14_col1, #T_800cf_row15_col1 {\n",
       "  background-color: #fff1ea;\n",
       "  color: #000000;\n",
       "}\n",
       "#T_800cf_row16_col1 {\n",
       "  background-color: #fff2eb;\n",
       "  color: #000000;\n",
       "}\n",
       "#T_800cf_row17_col1 {\n",
       "  background-color: #fff4ee;\n",
       "  color: #000000;\n",
       "}\n",
       "#T_800cf_row18_col1 {\n",
       "  background-color: #fff4ef;\n",
       "  color: #000000;\n",
       "}\n",
       "#T_800cf_row19_col1 {\n",
       "  background-color: #fff5f0;\n",
       "  color: #000000;\n",
       "}\n",
       "</style>\n",
       "<table id=\"T_800cf\">\n",
       "  <thead>\n",
       "    <tr>\n",
       "      <th class=\"blank level0\" >&nbsp;</th>\n",
       "      <th id=\"T_800cf_level0_col0\" class=\"col_heading level0 col0\" >Top Words</th>\n",
       "      <th id=\"T_800cf_level0_col1\" class=\"col_heading level0 col1\" >Count</th>\n",
       "    </tr>\n",
       "  </thead>\n",
       "  <tbody>\n",
       "    <tr>\n",
       "      <th id=\"T_800cf_level0_row0\" class=\"row_heading level0 row0\" >0</th>\n",
       "      <td id=\"T_800cf_row0_col0\" class=\"data row0 col0\" >muslim</td>\n",
       "      <td id=\"T_800cf_row0_col1\" class=\"data row0 col1\" >4618</td>\n",
       "    </tr>\n",
       "    <tr>\n",
       "      <th id=\"T_800cf_level0_row1\" class=\"row_heading level0 row1\" >1</th>\n",
       "      <td id=\"T_800cf_row1_col0\" class=\"data row1 col0\" >idiot</td>\n",
       "      <td id=\"T_800cf_row1_col1\" class=\"data row1 col1\" >3075</td>\n",
       "    </tr>\n",
       "    <tr>\n",
       "      <th id=\"T_800cf_level0_row2\" class=\"row_heading level0 row2\" >2</th>\n",
       "      <td id=\"T_800cf_row2_col0\" class=\"data row2 col0\" >islam</td>\n",
       "      <td id=\"T_800cf_row2_col1\" class=\"data row2 col1\" >2440</td>\n",
       "    </tr>\n",
       "    <tr>\n",
       "      <th id=\"T_800cf_level0_row3\" class=\"row_heading level0 row3\" >3</th>\n",
       "      <td id=\"T_800cf_row3_col0\" class=\"data row3 col0\" >christian</td>\n",
       "      <td id=\"T_800cf_row3_col1\" class=\"data row3 col1\" >2132</td>\n",
       "    </tr>\n",
       "    <tr>\n",
       "      <th id=\"T_800cf_level0_row4\" class=\"row_heading level0 row4\" >4</th>\n",
       "      <td id=\"T_800cf_row4_col0\" class=\"data row4 col0\" >u</td>\n",
       "      <td id=\"T_800cf_row4_col1\" class=\"data row4 col1\" >1922</td>\n",
       "    </tr>\n",
       "    <tr>\n",
       "      <th id=\"T_800cf_level0_row5\" class=\"row_heading level0 row5\" >5</th>\n",
       "      <td id=\"T_800cf_row5_col0\" class=\"data row5 col0\" >terrorist</td>\n",
       "      <td id=\"T_800cf_row5_col1\" class=\"data row5 col1\" >1378</td>\n",
       "    </tr>\n",
       "    <tr>\n",
       "      <th id=\"T_800cf_level0_row6\" class=\"row_heading level0 row6\" >6</th>\n",
       "      <td id=\"T_800cf_row6_col0\" class=\"data row6 col0\" >right</td>\n",
       "      <td id=\"T_800cf_row6_col1\" class=\"data row6 col1\" >1289</td>\n",
       "    </tr>\n",
       "    <tr>\n",
       "      <th id=\"T_800cf_level0_row7\" class=\"row_heading level0 row7\" >7</th>\n",
       "      <td id=\"T_800cf_row7_col0\" class=\"data row7 col0\" >like</td>\n",
       "      <td id=\"T_800cf_row7_col1\" class=\"data row7 col1\" >1276</td>\n",
       "    </tr>\n",
       "    <tr>\n",
       "      <th id=\"T_800cf_level0_row8\" class=\"row_heading level0 row8\" >8</th>\n",
       "      <td id=\"T_800cf_row8_col0\" class=\"data row8 col0\" >support</td>\n",
       "      <td id=\"T_800cf_row8_col1\" class=\"data row8 col1\" >1251</td>\n",
       "    </tr>\n",
       "    <tr>\n",
       "      <th id=\"T_800cf_level0_row9\" class=\"row_heading level0 row9\" >9</th>\n",
       "      <td id=\"T_800cf_row9_col0\" class=\"data row9 col0\" >woman</td>\n",
       "      <td id=\"T_800cf_row9_col1\" class=\"data row9 col1\" >1247</td>\n",
       "    </tr>\n",
       "    <tr>\n",
       "      <th id=\"T_800cf_level0_row10\" class=\"row_heading level0 row10\" >10</th>\n",
       "      <td id=\"T_800cf_row10_col0\" class=\"data row10 col0\" >terror</td>\n",
       "      <td id=\"T_800cf_row10_col1\" class=\"data row10 col1\" >1182</td>\n",
       "    </tr>\n",
       "    <tr>\n",
       "      <th id=\"T_800cf_level0_row11\" class=\"row_heading level0 row11\" >11</th>\n",
       "      <td id=\"T_800cf_row11_col0\" class=\"data row11 col0\" >radic</td>\n",
       "      <td id=\"T_800cf_row11_col1\" class=\"data row11 col1\" >1110</td>\n",
       "    </tr>\n",
       "    <tr>\n",
       "      <th id=\"T_800cf_level0_row12\" class=\"row_heading level0 row12\" >12</th>\n",
       "      <td id=\"T_800cf_row12_col0\" class=\"data row12 col0\" >peopl</td>\n",
       "      <td id=\"T_800cf_row12_col1\" class=\"data row12 col1\" >1076</td>\n",
       "    </tr>\n",
       "    <tr>\n",
       "      <th id=\"T_800cf_level0_row13\" class=\"row_heading level0 row13\" >13</th>\n",
       "      <td id=\"T_800cf_row13_col0\" class=\"data row13 col0\" >say</td>\n",
       "      <td id=\"T_800cf_row13_col1\" class=\"data row13 col1\" >812</td>\n",
       "    </tr>\n",
       "    <tr>\n",
       "      <th id=\"T_800cf_level0_row14\" class=\"row_heading level0 row14\" >14</th>\n",
       "      <td id=\"T_800cf_row14_col0\" class=\"data row14 col0\" >amp</td>\n",
       "      <td id=\"T_800cf_row14_col1\" class=\"data row14 col1\" >769</td>\n",
       "    </tr>\n",
       "    <tr>\n",
       "      <th id=\"T_800cf_level0_row15\" class=\"row_heading level0 row15\" >15</th>\n",
       "      <td id=\"T_800cf_row15_col0\" class=\"data row15 col0\" >know</td>\n",
       "      <td id=\"T_800cf_row15_col1\" class=\"data row15 col1\" >759</td>\n",
       "    </tr>\n",
       "    <tr>\n",
       "      <th id=\"T_800cf_level0_row16\" class=\"row_heading level0 row16\" >16</th>\n",
       "      <td id=\"T_800cf_row16_col0\" class=\"data row16 col0\" >human</td>\n",
       "      <td id=\"T_800cf_row16_col1\" class=\"data row16 col1\" >744</td>\n",
       "    </tr>\n",
       "    <tr>\n",
       "      <th id=\"T_800cf_level0_row17\" class=\"row_heading level0 row17\" >17</th>\n",
       "      <td id=\"T_800cf_row17_col0\" class=\"data row17 col0\" >kill</td>\n",
       "      <td id=\"T_800cf_row17_col1\" class=\"data row17 col1\" >708</td>\n",
       "    </tr>\n",
       "    <tr>\n",
       "      <th id=\"T_800cf_level0_row18\" class=\"row_heading level0 row18\" >18</th>\n",
       "      <td id=\"T_800cf_row18_col0\" class=\"data row18 col0\" >hindu</td>\n",
       "      <td id=\"T_800cf_row18_col1\" class=\"data row18 col1\" >688</td>\n",
       "    </tr>\n",
       "    <tr>\n",
       "      <th id=\"T_800cf_level0_row19\" class=\"row_heading level0 row19\" >19</th>\n",
       "      <td id=\"T_800cf_row19_col0\" class=\"data row19 col0\" >one</td>\n",
       "      <td id=\"T_800cf_row19_col1\" class=\"data row19 col1\" >666</td>\n",
       "    </tr>\n",
       "  </tbody>\n",
       "</table>\n"
      ],
      "text/plain": [
       "<pandas.io.formats.style.Styler at 0x2c038d8d130>"
      ]
     },
     "execution_count": 42,
     "metadata": {},
     "output_type": "execute_result"
    }
   ],
   "source": [
    "religion = Counter([item for sublist in religion_type['words_list'] for item in sublist])\n",
    "top20_religion = pd.DataFrame(religion.most_common(20))\n",
    "top20_religion.columns = ['Top Words','Count']\n",
    "top20_religion.style.background_gradient(cmap='Reds')"
   ]
  },
  {
   "cell_type": "code",
   "execution_count": null,
   "id": "6e04e68a",
   "metadata": {},
   "outputs": [],
   "source": []
  },
  {
   "cell_type": "markdown",
   "id": "dca191cd",
   "metadata": {},
   "source": [
    "## AGE BASED CYBER BULLYING"
   ]
  },
  {
   "cell_type": "code",
   "execution_count": 43,
   "id": "cd9c0551",
   "metadata": {},
   "outputs": [
    {
     "data": {
      "text/html": [
       "<style type=\"text/css\">\n",
       "#T_fb170_row0_col1 {\n",
       "  background-color: #67000d;\n",
       "  color: #f1f1f1;\n",
       "}\n",
       "#T_fb170_row1_col1 {\n",
       "  background-color: #820711;\n",
       "  color: #f1f1f1;\n",
       "}\n",
       "#T_fb170_row2_col1 {\n",
       "  background-color: #f96245;\n",
       "  color: #f1f1f1;\n",
       "}\n",
       "#T_fb170_row3_col1 {\n",
       "  background-color: #fb6d4d;\n",
       "  color: #f1f1f1;\n",
       "}\n",
       "#T_fb170_row4_col1 {\n",
       "  background-color: #fdcdb9;\n",
       "  color: #000000;\n",
       "}\n",
       "#T_fb170_row5_col1, #T_fb170_row6_col1 {\n",
       "  background-color: #feeae0;\n",
       "  color: #000000;\n",
       "}\n",
       "#T_fb170_row7_col1 {\n",
       "  background-color: #ffece4;\n",
       "  color: #000000;\n",
       "}\n",
       "#T_fb170_row8_col1 {\n",
       "  background-color: #ffeee6;\n",
       "  color: #000000;\n",
       "}\n",
       "#T_fb170_row9_col1 {\n",
       "  background-color: #ffeee7;\n",
       "  color: #000000;\n",
       "}\n",
       "#T_fb170_row10_col1 {\n",
       "  background-color: #fff0e8;\n",
       "  color: #000000;\n",
       "}\n",
       "#T_fb170_row11_col1 {\n",
       "  background-color: #fff0e9;\n",
       "  color: #000000;\n",
       "}\n",
       "#T_fb170_row12_col1, #T_fb170_row13_col1 {\n",
       "  background-color: #fff2ec;\n",
       "  color: #000000;\n",
       "}\n",
       "#T_fb170_row14_col1 {\n",
       "  background-color: #fff3ed;\n",
       "  color: #000000;\n",
       "}\n",
       "#T_fb170_row15_col1, #T_fb170_row16_col1 {\n",
       "  background-color: #fff4ee;\n",
       "  color: #000000;\n",
       "}\n",
       "#T_fb170_row17_col1, #T_fb170_row18_col1 {\n",
       "  background-color: #fff4ef;\n",
       "  color: #000000;\n",
       "}\n",
       "#T_fb170_row19_col1 {\n",
       "  background-color: #fff5f0;\n",
       "  color: #000000;\n",
       "}\n",
       "</style>\n",
       "<table id=\"T_fb170\">\n",
       "  <thead>\n",
       "    <tr>\n",
       "      <th class=\"blank level0\" >&nbsp;</th>\n",
       "      <th id=\"T_fb170_level0_col0\" class=\"col_heading level0 col0\" >Top Words</th>\n",
       "      <th id=\"T_fb170_level0_col1\" class=\"col_heading level0 col1\" >Count</th>\n",
       "    </tr>\n",
       "  </thead>\n",
       "  <tbody>\n",
       "    <tr>\n",
       "      <th id=\"T_fb170_level0_row0\" class=\"row_heading level0 row0\" >0</th>\n",
       "      <td id=\"T_fb170_row0_col0\" class=\"data row0 col0\" >bulli</td>\n",
       "      <td id=\"T_fb170_row0_col1\" class=\"data row0 col1\" >8899</td>\n",
       "    </tr>\n",
       "    <tr>\n",
       "      <th id=\"T_fb170_level0_row1\" class=\"row_heading level0 row1\" >1</th>\n",
       "      <td id=\"T_fb170_row1_col0\" class=\"data row1 col0\" >school</td>\n",
       "      <td id=\"T_fb170_row1_col1\" class=\"data row1 col1\" >8426</td>\n",
       "    </tr>\n",
       "    <tr>\n",
       "      <th id=\"T_fb170_level0_row2\" class=\"row_heading level0 row2\" >2</th>\n",
       "      <td id=\"T_fb170_row2_col0\" class=\"data row2 col0\" >high</td>\n",
       "      <td id=\"T_fb170_row2_col1\" class=\"data row2 col1\" >4861</td>\n",
       "    </tr>\n",
       "    <tr>\n",
       "      <th id=\"T_fb170_level0_row3\" class=\"row_heading level0 row3\" >3</th>\n",
       "      <td id=\"T_fb170_row3_col0\" class=\"data row3 col0\" >girl</td>\n",
       "      <td id=\"T_fb170_row3_col1\" class=\"data row3 col1\" >4616</td>\n",
       "    </tr>\n",
       "    <tr>\n",
       "      <th id=\"T_fb170_level0_row4\" class=\"row_heading level0 row4\" >4</th>\n",
       "      <td id=\"T_fb170_row4_col0\" class=\"data row4 col0\" >like</td>\n",
       "      <td id=\"T_fb170_row4_col1\" class=\"data row4 col1\" >2076</td>\n",
       "    </tr>\n",
       "    <tr>\n",
       "      <th id=\"T_fb170_level0_row5\" class=\"row_heading level0 row5\" >5</th>\n",
       "      <td id=\"T_fb170_row5_col0\" class=\"data row5 col0\" >get</td>\n",
       "      <td id=\"T_fb170_row5_col1\" class=\"data row5 col1\" >1051</td>\n",
       "    </tr>\n",
       "    <tr>\n",
       "      <th id=\"T_fb170_level0_row6\" class=\"row_heading level0 row6\" >6</th>\n",
       "      <td id=\"T_fb170_row6_col0\" class=\"data row6 col0\" >one</td>\n",
       "      <td id=\"T_fb170_row6_col1\" class=\"data row6 col1\" >1044</td>\n",
       "    </tr>\n",
       "    <tr>\n",
       "      <th id=\"T_fb170_level0_row7\" class=\"row_heading level0 row7\" >7</th>\n",
       "      <td id=\"T_fb170_row7_col0\" class=\"data row7 col0\" >peopl</td>\n",
       "      <td id=\"T_fb170_row7_col1\" class=\"data row7 col1\" >934</td>\n",
       "    </tr>\n",
       "    <tr>\n",
       "      <th id=\"T_fb170_level0_row8\" class=\"row_heading level0 row8\" >8</th>\n",
       "      <td id=\"T_fb170_row8_col0\" class=\"data row8 col0\" >got</td>\n",
       "      <td id=\"T_fb170_row8_col1\" class=\"data row8 col1\" >842</td>\n",
       "    </tr>\n",
       "    <tr>\n",
       "      <th id=\"T_fb170_level0_row9\" class=\"row_heading level0 row9\" >9</th>\n",
       "      <td id=\"T_fb170_row9_col0\" class=\"data row9 col0\" >kid</td>\n",
       "      <td id=\"T_fb170_row9_col1\" class=\"data row9 col1\" >809</td>\n",
       "    </tr>\n",
       "    <tr>\n",
       "      <th id=\"T_fb170_level0_row10\" class=\"row_heading level0 row10\" >10</th>\n",
       "      <td id=\"T_fb170_row10_col0\" class=\"data row10 col0\" >would</td>\n",
       "      <td id=\"T_fb170_row10_col1\" class=\"data row10 col1\" >762</td>\n",
       "    </tr>\n",
       "    <tr>\n",
       "      <th id=\"T_fb170_level0_row11\" class=\"row_heading level0 row11\" >11</th>\n",
       "      <td id=\"T_fb170_row11_col0\" class=\"data row11 col0\" >middl</td>\n",
       "      <td id=\"T_fb170_row11_col1\" class=\"data row11 col1\" >714</td>\n",
       "    </tr>\n",
       "    <tr>\n",
       "      <th id=\"T_fb170_level0_row12\" class=\"row_heading level0 row12\" >12</th>\n",
       "      <td id=\"T_fb170_row12_col0\" class=\"data row12 col0\" >friend</td>\n",
       "      <td id=\"T_fb170_row12_col1\" class=\"data row12 col1\" >632</td>\n",
       "    </tr>\n",
       "    <tr>\n",
       "      <th id=\"T_fb170_level0_row13\" class=\"row_heading level0 row13\" >13</th>\n",
       "      <td id=\"T_fb170_row13_col0\" class=\"data row13 col0\" >im</td>\n",
       "      <td id=\"T_fb170_row13_col1\" class=\"data row13 col1\" >625</td>\n",
       "    </tr>\n",
       "    <tr>\n",
       "      <th id=\"T_fb170_level0_row14\" class=\"row_heading level0 row14\" >14</th>\n",
       "      <td id=\"T_fb170_row14_col0\" class=\"data row14 col0\" >year</td>\n",
       "      <td id=\"T_fb170_row14_col1\" class=\"data row14 col1\" >586</td>\n",
       "    </tr>\n",
       "    <tr>\n",
       "      <th id=\"T_fb170_level0_row15\" class=\"row_heading level0 row15\" >15</th>\n",
       "      <td id=\"T_fb170_row15_col0\" class=\"data row15 col0\" >go</td>\n",
       "      <td id=\"T_fb170_row15_col1\" class=\"data row15 col1\" >555</td>\n",
       "    </tr>\n",
       "    <tr>\n",
       "      <th id=\"T_fb170_level0_row16\" class=\"row_heading level0 row16\" >16</th>\n",
       "      <td id=\"T_fb170_row16_col0\" class=\"data row16 col0\" >look</td>\n",
       "      <td id=\"T_fb170_row16_col1\" class=\"data row16 col1\" >545</td>\n",
       "    </tr>\n",
       "    <tr>\n",
       "      <th id=\"T_fb170_level0_row17\" class=\"row_heading level0 row17\" >17</th>\n",
       "      <td id=\"T_fb170_row17_col0\" class=\"data row17 col0\" >amp</td>\n",
       "      <td id=\"T_fb170_row17_col1\" class=\"data row17 col1\" >527</td>\n",
       "    </tr>\n",
       "    <tr>\n",
       "      <th id=\"T_fb170_level0_row18\" class=\"row_heading level0 row18\" >18</th>\n",
       "      <td id=\"T_fb170_row18_col0\" class=\"data row18 col0\" >know</td>\n",
       "      <td id=\"T_fb170_row18_col1\" class=\"data row18 col1\" >511</td>\n",
       "    </tr>\n",
       "    <tr>\n",
       "      <th id=\"T_fb170_level0_row19\" class=\"row_heading level0 row19\" >19</th>\n",
       "      <td id=\"T_fb170_row19_col0\" class=\"data row19 col0\" >u</td>\n",
       "      <td id=\"T_fb170_row19_col1\" class=\"data row19 col1\" >477</td>\n",
       "    </tr>\n",
       "  </tbody>\n",
       "</table>\n"
      ],
      "text/plain": [
       "<pandas.io.formats.style.Styler at 0x2c0384180a0>"
      ]
     },
     "execution_count": 43,
     "metadata": {},
     "output_type": "execute_result"
    }
   ],
   "source": [
    "age = Counter([item for sublist in age_type['words_list'] for item in sublist])\n",
    "top20_age = pd.DataFrame(age.most_common(20))\n",
    "top20_age.columns = ['Top Words','Count']\n",
    "top20_age.style.background_gradient(cmap='Reds')"
   ]
  },
  {
   "cell_type": "code",
   "execution_count": null,
   "id": "f2eb1076",
   "metadata": {},
   "outputs": [],
   "source": []
  },
  {
   "cell_type": "markdown",
   "id": "dcb3450b",
   "metadata": {},
   "source": [
    "## ETHNICITY BASED CYBERBULLYING"
   ]
  },
  {
   "cell_type": "code",
   "execution_count": 44,
   "id": "5fed04ff",
   "metadata": {},
   "outputs": [
    {
     "data": {
      "text/html": [
       "<style type=\"text/css\">\n",
       "#T_7a5bd_row0_col1 {\n",
       "  background-color: #67000d;\n",
       "  color: #f1f1f1;\n",
       "}\n",
       "#T_7a5bd_row1_col1 {\n",
       "  background-color: #900a12;\n",
       "  color: #f1f1f1;\n",
       "}\n",
       "#T_7a5bd_row2_col1 {\n",
       "  background-color: #b21218;\n",
       "  color: #f1f1f1;\n",
       "}\n",
       "#T_7a5bd_row3_col1 {\n",
       "  background-color: #fcab8f;\n",
       "  color: #000000;\n",
       "}\n",
       "#T_7a5bd_row4_col1 {\n",
       "  background-color: #fcb296;\n",
       "  color: #000000;\n",
       "}\n",
       "#T_7a5bd_row5_col1 {\n",
       "  background-color: #fcb499;\n",
       "  color: #000000;\n",
       "}\n",
       "#T_7a5bd_row6_col1 {\n",
       "  background-color: #fdd4c2;\n",
       "  color: #000000;\n",
       "}\n",
       "#T_7a5bd_row7_col1 {\n",
       "  background-color: #fedecf;\n",
       "  color: #000000;\n",
       "}\n",
       "#T_7a5bd_row8_col1 {\n",
       "  background-color: #fee5d9;\n",
       "  color: #000000;\n",
       "}\n",
       "#T_7a5bd_row9_col1 {\n",
       "  background-color: #fee6da;\n",
       "  color: #000000;\n",
       "}\n",
       "#T_7a5bd_row10_col1 {\n",
       "  background-color: #fee8dd;\n",
       "  color: #000000;\n",
       "}\n",
       "#T_7a5bd_row11_col1 {\n",
       "  background-color: #fee9df;\n",
       "  color: #000000;\n",
       "}\n",
       "#T_7a5bd_row12_col1 {\n",
       "  background-color: #feeae0;\n",
       "  color: #000000;\n",
       "}\n",
       "#T_7a5bd_row13_col1 {\n",
       "  background-color: #ffebe2;\n",
       "  color: #000000;\n",
       "}\n",
       "#T_7a5bd_row14_col1 {\n",
       "  background-color: #ffece3;\n",
       "  color: #000000;\n",
       "}\n",
       "#T_7a5bd_row15_col1 {\n",
       "  background-color: #fff1ea;\n",
       "  color: #000000;\n",
       "}\n",
       "#T_7a5bd_row16_col1, #T_7a5bd_row17_col1 {\n",
       "  background-color: #fff4ee;\n",
       "  color: #000000;\n",
       "}\n",
       "#T_7a5bd_row18_col1, #T_7a5bd_row19_col1 {\n",
       "  background-color: #fff5f0;\n",
       "  color: #000000;\n",
       "}\n",
       "</style>\n",
       "<table id=\"T_7a5bd\">\n",
       "  <thead>\n",
       "    <tr>\n",
       "      <th class=\"blank level0\" >&nbsp;</th>\n",
       "      <th id=\"T_7a5bd_level0_col0\" class=\"col_heading level0 col0\" >Top Words</th>\n",
       "      <th id=\"T_7a5bd_level0_col1\" class=\"col_heading level0 col1\" >Count</th>\n",
       "    </tr>\n",
       "  </thead>\n",
       "  <tbody>\n",
       "    <tr>\n",
       "      <th id=\"T_7a5bd_level0_row0\" class=\"row_heading level0 row0\" >0</th>\n",
       "      <td id=\"T_7a5bd_row0_col0\" class=\"data row0 col0\" >fuck</td>\n",
       "      <td id=\"T_7a5bd_row0_col1\" class=\"data row0 col1\" >5892</td>\n",
       "    </tr>\n",
       "    <tr>\n",
       "      <th id=\"T_7a5bd_level0_row1\" class=\"row_heading level0 row1\" >1</th>\n",
       "      <td id=\"T_7a5bd_row1_col0\" class=\"data row1 col0\" >nigger</td>\n",
       "      <td id=\"T_7a5bd_row1_col1\" class=\"data row1 col1\" >5456</td>\n",
       "    </tr>\n",
       "    <tr>\n",
       "      <th id=\"T_7a5bd_level0_row2\" class=\"row_heading level0 row2\" >2</th>\n",
       "      <td id=\"T_7a5bd_row2_col0\" class=\"data row2 col0\" >dumb</td>\n",
       "      <td id=\"T_7a5bd_row2_col1\" class=\"data row2 col1\" >5003</td>\n",
       "    </tr>\n",
       "    <tr>\n",
       "      <th id=\"T_7a5bd_level0_row3\" class=\"row_heading level0 row3\" >3</th>\n",
       "      <td id=\"T_7a5bd_row3_col0\" class=\"data row3 col0\" >as</td>\n",
       "      <td id=\"T_7a5bd_row3_col1\" class=\"data row3 col1\" >2241</td>\n",
       "    </tr>\n",
       "    <tr>\n",
       "      <th id=\"T_7a5bd_level0_row4\" class=\"row_heading level0 row4\" >4</th>\n",
       "      <td id=\"T_7a5bd_row4_col0\" class=\"data row4 col0\" >black</td>\n",
       "      <td id=\"T_7a5bd_row4_col1\" class=\"data row4 col1\" >2134</td>\n",
       "    </tr>\n",
       "    <tr>\n",
       "      <th id=\"T_7a5bd_level0_row5\" class=\"row_heading level0 row5\" >5</th>\n",
       "      <td id=\"T_7a5bd_row5_col0\" class=\"data row5 col0\" >u</td>\n",
       "      <td id=\"T_7a5bd_row5_col1\" class=\"data row5 col1\" >2107</td>\n",
       "    </tr>\n",
       "    <tr>\n",
       "      <th id=\"T_7a5bd_level0_row6\" class=\"row_heading level0 row6\" >6</th>\n",
       "      <td id=\"T_7a5bd_row6_col0\" class=\"data row6 col0\" >white</td>\n",
       "      <td id=\"T_7a5bd_row6_col1\" class=\"data row6 col1\" >1557</td>\n",
       "    </tr>\n",
       "    <tr>\n",
       "      <th id=\"T_7a5bd_level0_row7\" class=\"row_heading level0 row7\" >7</th>\n",
       "      <td id=\"T_7a5bd_row7_col0\" class=\"data row7 col0\" >call</td>\n",
       "      <td id=\"T_7a5bd_row7_col1\" class=\"data row7 col1\" >1381</td>\n",
       "    </tr>\n",
       "    <tr>\n",
       "      <th id=\"T_7a5bd_level0_row8\" class=\"row_heading level0 row8\" >8</th>\n",
       "      <td id=\"T_7a5bd_row8_col0\" class=\"data row8 col0\" >peopl</td>\n",
       "      <td id=\"T_7a5bd_row8_col1\" class=\"data row8 col1\" >1182</td>\n",
       "    </tr>\n",
       "    <tr>\n",
       "      <th id=\"T_7a5bd_level0_row9\" class=\"row_heading level0 row9\" >9</th>\n",
       "      <td id=\"T_7a5bd_row9_col0\" class=\"data row9 col0\" >rt</td>\n",
       "      <td id=\"T_7a5bd_row9_col1\" class=\"data row9 col1\" >1166</td>\n",
       "    </tr>\n",
       "    <tr>\n",
       "      <th id=\"T_7a5bd_level0_row10\" class=\"row_heading level0 row10\" >10</th>\n",
       "      <td id=\"T_7a5bd_row10_col0\" class=\"data row10 col0\" >obama</td>\n",
       "      <td id=\"T_7a5bd_row10_col1\" class=\"data row10 col1\" >1112</td>\n",
       "    </tr>\n",
       "    <tr>\n",
       "      <th id=\"T_7a5bd_level0_row11\" class=\"row_heading level0 row11\" >11</th>\n",
       "      <td id=\"T_7a5bd_row11_col0\" class=\"data row11 col0\" >one</td>\n",
       "      <td id=\"T_7a5bd_row11_col1\" class=\"data row11 col1\" >1058</td>\n",
       "    </tr>\n",
       "    <tr>\n",
       "      <th id=\"T_7a5bd_level0_row12\" class=\"row_heading level0 row12\" >12</th>\n",
       "      <td id=\"T_7a5bd_row12_col0\" class=\"data row12 col0\" >like</td>\n",
       "      <td id=\"T_7a5bd_row12_col1\" class=\"data row12 col1\" >1035</td>\n",
       "    </tr>\n",
       "    <tr>\n",
       "      <th id=\"T_7a5bd_level0_row13\" class=\"row_heading level0 row13\" >13</th>\n",
       "      <td id=\"T_7a5bd_row13_col0\" class=\"data row13 col0\" >bitch</td>\n",
       "      <td id=\"T_7a5bd_row13_col1\" class=\"data row13 col1\" >999</td>\n",
       "    </tr>\n",
       "    <tr>\n",
       "      <th id=\"T_7a5bd_level0_row14\" class=\"row_heading level0 row14\" >14</th>\n",
       "      <td id=\"T_7a5bd_row14_col0\" class=\"data row14 col0\" >ur</td>\n",
       "      <td id=\"T_7a5bd_row14_col1\" class=\"data row14 col1\" >987</td>\n",
       "    </tr>\n",
       "    <tr>\n",
       "      <th id=\"T_7a5bd_level0_row15\" class=\"row_heading level0 row15\" >15</th>\n",
       "      <td id=\"T_7a5bd_row15_col0\" class=\"data row15 col0\" >say</td>\n",
       "      <td id=\"T_7a5bd_row15_col1\" class=\"data row15 col1\" >817</td>\n",
       "    </tr>\n",
       "    <tr>\n",
       "      <th id=\"T_7a5bd_level0_row16\" class=\"row_heading level0 row16\" >16</th>\n",
       "      <td id=\"T_7a5bd_row16_col0\" class=\"data row16 col0\" >first</td>\n",
       "      <td id=\"T_7a5bd_row16_col1\" class=\"data row16 col1\" >745</td>\n",
       "    </tr>\n",
       "    <tr>\n",
       "      <th id=\"T_7a5bd_level0_row17\" class=\"row_heading level0 row17\" >17</th>\n",
       "      <td id=\"T_7a5bd_row17_col0\" class=\"data row17 col0\" >get</td>\n",
       "      <td id=\"T_7a5bd_row17_col1\" class=\"data row17 col1\" >740</td>\n",
       "    </tr>\n",
       "    <tr>\n",
       "      <th id=\"T_7a5bd_level0_row18\" class=\"row_heading level0 row18\" >18</th>\n",
       "      <td id=\"T_7a5bd_row18_col0\" class=\"data row18 col0\" >anyth</td>\n",
       "      <td id=\"T_7a5bd_row18_col1\" class=\"data row18 col1\" >708</td>\n",
       "    </tr>\n",
       "    <tr>\n",
       "      <th id=\"T_7a5bd_level0_row19\" class=\"row_heading level0 row19\" >19</th>\n",
       "      <td id=\"T_7a5bd_row19_col0\" class=\"data row19 col0\" >racism</td>\n",
       "      <td id=\"T_7a5bd_row19_col1\" class=\"data row19 col1\" >689</td>\n",
       "    </tr>\n",
       "  </tbody>\n",
       "</table>\n"
      ],
      "text/plain": [
       "<pandas.io.formats.style.Styler at 0x2c038418100>"
      ]
     },
     "execution_count": 44,
     "metadata": {},
     "output_type": "execute_result"
    }
   ],
   "source": [
    "ethnicity = Counter([item for sublist in ethnicity_type['words_list'] for item in sublist])\n",
    "top20_ethnicity = pd.DataFrame(ethnicity.most_common(20))\n",
    "top20_ethnicity.columns = ['Top Words','Count']\n",
    "top20_ethnicity.style.background_gradient(cmap='Reds')"
   ]
  },
  {
   "cell_type": "code",
   "execution_count": null,
   "id": "13304993",
   "metadata": {},
   "outputs": [],
   "source": []
  },
  {
   "cell_type": "markdown",
   "id": "130c4d17",
   "metadata": {},
   "source": [
    "##  OTHER TYPES OF CYBERBULLYING"
   ]
  },
  {
   "cell_type": "code",
   "execution_count": 45,
   "id": "d8f0bba0",
   "metadata": {},
   "outputs": [
    {
     "data": {
      "text/html": [
       "<style type=\"text/css\">\n",
       "#T_df791_row0_col1 {\n",
       "  background-color: #67000d;\n",
       "  color: #f1f1f1;\n",
       "}\n",
       "#T_df791_row1_col1 {\n",
       "  background-color: #c2161b;\n",
       "  color: #f1f1f1;\n",
       "}\n",
       "#T_df791_row2_col1 {\n",
       "  background-color: #fb7353;\n",
       "  color: #f1f1f1;\n",
       "}\n",
       "#T_df791_row3_col1 {\n",
       "  background-color: #fc9b7c;\n",
       "  color: #000000;\n",
       "}\n",
       "#T_df791_row4_col1 {\n",
       "  background-color: #fca98c;\n",
       "  color: #000000;\n",
       "}\n",
       "#T_df791_row5_col1 {\n",
       "  background-color: #fcbca2;\n",
       "  color: #000000;\n",
       "}\n",
       "#T_df791_row6_col1 {\n",
       "  background-color: #fedbcc;\n",
       "  color: #000000;\n",
       "}\n",
       "#T_df791_row7_col1 {\n",
       "  background-color: #fee1d4;\n",
       "  color: #000000;\n",
       "}\n",
       "#T_df791_row8_col1 {\n",
       "  background-color: #fee7db;\n",
       "  color: #000000;\n",
       "}\n",
       "#T_df791_row9_col1 {\n",
       "  background-color: #fee7dc;\n",
       "  color: #000000;\n",
       "}\n",
       "#T_df791_row10_col1 {\n",
       "  background-color: #fee8dd;\n",
       "  color: #000000;\n",
       "}\n",
       "#T_df791_row11_col1 {\n",
       "  background-color: #feeae1;\n",
       "  color: #000000;\n",
       "}\n",
       "#T_df791_row12_col1 {\n",
       "  background-color: #ffece4;\n",
       "  color: #000000;\n",
       "}\n",
       "#T_df791_row13_col1 {\n",
       "  background-color: #ffefe8;\n",
       "  color: #000000;\n",
       "}\n",
       "#T_df791_row14_col1 {\n",
       "  background-color: #fff0e8;\n",
       "  color: #000000;\n",
       "}\n",
       "#T_df791_row15_col1 {\n",
       "  background-color: #fff0e9;\n",
       "  color: #000000;\n",
       "}\n",
       "#T_df791_row16_col1, #T_df791_row17_col1, #T_df791_row18_col1 {\n",
       "  background-color: #fff4ef;\n",
       "  color: #000000;\n",
       "}\n",
       "#T_df791_row19_col1 {\n",
       "  background-color: #fff5f0;\n",
       "  color: #000000;\n",
       "}\n",
       "</style>\n",
       "<table id=\"T_df791\">\n",
       "  <thead>\n",
       "    <tr>\n",
       "      <th class=\"blank level0\" >&nbsp;</th>\n",
       "      <th id=\"T_df791_level0_col0\" class=\"col_heading level0 col0\" >Top Words</th>\n",
       "      <th id=\"T_df791_level0_col1\" class=\"col_heading level0 col1\" >Count</th>\n",
       "    </tr>\n",
       "  </thead>\n",
       "  <tbody>\n",
       "    <tr>\n",
       "      <th id=\"T_df791_level0_row0\" class=\"row_heading level0 row0\" >0</th>\n",
       "      <td id=\"T_df791_row0_col0\" class=\"data row0 col0\" >bulli</td>\n",
       "      <td id=\"T_df791_row0_col1\" class=\"data row0 col1\" >882</td>\n",
       "    </tr>\n",
       "    <tr>\n",
       "      <th id=\"T_df791_level0_row1\" class=\"row_heading level0 row1\" >1</th>\n",
       "      <td id=\"T_df791_row1_col0\" class=\"data row1 col0\" >rt</td>\n",
       "      <td id=\"T_df791_row1_col1\" class=\"data row1 col1\" >727</td>\n",
       "    </tr>\n",
       "    <tr>\n",
       "      <th id=\"T_df791_level0_row2\" class=\"row_heading level0 row2\" >2</th>\n",
       "      <td id=\"T_df791_row2_col0\" class=\"data row2 col0\" >fuck</td>\n",
       "      <td id=\"T_df791_row2_col1\" class=\"data row2 col1\" >509</td>\n",
       "    </tr>\n",
       "    <tr>\n",
       "      <th id=\"T_df791_level0_row3\" class=\"row_heading level0 row3\" >3</th>\n",
       "      <td id=\"T_df791_row3_col0\" class=\"data row3 col0\" >like</td>\n",
       "      <td id=\"T_df791_row3_col1\" class=\"data row3 col1\" >424</td>\n",
       "    </tr>\n",
       "    <tr>\n",
       "      <th id=\"T_df791_level0_row4\" class=\"row_heading level0 row4\" >4</th>\n",
       "      <td id=\"T_df791_row4_col0\" class=\"data row4 col0\" >get</td>\n",
       "      <td id=\"T_df791_row4_col1\" class=\"data row4 col1\" >393</td>\n",
       "    </tr>\n",
       "    <tr>\n",
       "      <th id=\"T_df791_level0_row5\" class=\"row_heading level0 row5\" >5</th>\n",
       "      <td id=\"T_df791_row5_col0\" class=\"data row5 col0\" >peopl</td>\n",
       "      <td id=\"T_df791_row5_col1\" class=\"data row5 col1\" >353</td>\n",
       "    </tr>\n",
       "    <tr>\n",
       "      <th id=\"T_df791_level0_row6\" class=\"row_heading level0 row6\" >6</th>\n",
       "      <td id=\"T_df791_row6_col0\" class=\"data row6 col0\" >go</td>\n",
       "      <td id=\"T_df791_row6_col1\" class=\"data row6 col1\" >277</td>\n",
       "    </tr>\n",
       "    <tr>\n",
       "      <th id=\"T_df791_level0_row7\" class=\"row_heading level0 row7\" >7</th>\n",
       "      <td id=\"T_df791_row7_col0\" class=\"data row7 col0\" >idiot</td>\n",
       "      <td id=\"T_df791_row7_col1\" class=\"data row7 col1\" >261</td>\n",
       "    </tr>\n",
       "    <tr>\n",
       "      <th id=\"T_df791_level0_row8\" class=\"row_heading level0 row8\" >8</th>\n",
       "      <td id=\"T_df791_row8_col0\" class=\"data row8 col0\" >know</td>\n",
       "      <td id=\"T_df791_row8_col1\" class=\"data row8 col1\" >241</td>\n",
       "    </tr>\n",
       "    <tr>\n",
       "      <th id=\"T_df791_level0_row9\" class=\"row_heading level0 row9\" >9</th>\n",
       "      <td id=\"T_df791_row9_col0\" class=\"data row9 col0\" >think</td>\n",
       "      <td id=\"T_df791_row9_col1\" class=\"data row9 col1\" >237</td>\n",
       "    </tr>\n",
       "    <tr>\n",
       "      <th id=\"T_df791_level0_row10\" class=\"row_heading level0 row10\" >10</th>\n",
       "      <td id=\"T_df791_row10_col0\" class=\"data row10 col0\" >would</td>\n",
       "      <td id=\"T_df791_row10_col1\" class=\"data row10 col1\" >235</td>\n",
       "    </tr>\n",
       "    <tr>\n",
       "      <th id=\"T_df791_level0_row11\" class=\"row_heading level0 row11\" >11</th>\n",
       "      <td id=\"T_df791_row11_col0\" class=\"data row11 col0\" >u</td>\n",
       "      <td id=\"T_df791_row11_col1\" class=\"data row11 col1\" >223</td>\n",
       "    </tr>\n",
       "    <tr>\n",
       "      <th id=\"T_df791_level0_row12\" class=\"row_heading level0 row12\" >12</th>\n",
       "      <td id=\"T_df791_row12_col0\" class=\"data row12 col0\" >make</td>\n",
       "      <td id=\"T_df791_row12_col1\" class=\"data row12 col1\" >215</td>\n",
       "    </tr>\n",
       "    <tr>\n",
       "      <th id=\"T_df791_level0_row13\" class=\"row_heading level0 row13\" >13</th>\n",
       "      <td id=\"T_df791_row13_col0\" class=\"data row13 col0\" >one</td>\n",
       "      <td id=\"T_df791_row13_col1\" class=\"data row13 col1\" >205</td>\n",
       "    </tr>\n",
       "    <tr>\n",
       "      <th id=\"T_df791_level0_row14\" class=\"row_heading level0 row14\" >14</th>\n",
       "      <td id=\"T_df791_row14_col0\" class=\"data row14 col0\" >time</td>\n",
       "      <td id=\"T_df791_row14_col1\" class=\"data row14 col1\" >202</td>\n",
       "    </tr>\n",
       "    <tr>\n",
       "      <th id=\"T_df791_level0_row15\" class=\"row_heading level0 row15\" >15</th>\n",
       "      <td id=\"T_df791_row15_col0\" class=\"data row15 col0\" >hate</td>\n",
       "      <td id=\"T_df791_row15_col1\" class=\"data row15 col1\" >199</td>\n",
       "    </tr>\n",
       "    <tr>\n",
       "      <th id=\"T_df791_level0_row16\" class=\"row_heading level0 row16\" >16</th>\n",
       "      <td id=\"T_df791_row16_col0\" class=\"data row16 col0\" >want</td>\n",
       "      <td id=\"T_df791_row16_col1\" class=\"data row16 col1\" >183</td>\n",
       "    </tr>\n",
       "    <tr>\n",
       "      <th id=\"T_df791_level0_row17\" class=\"row_heading level0 row17\" >17</th>\n",
       "      <td id=\"T_df791_row17_col0\" class=\"data row17 col0\" >thing</td>\n",
       "      <td id=\"T_df791_row17_col1\" class=\"data row17 col1\" >182</td>\n",
       "    </tr>\n",
       "    <tr>\n",
       "      <th id=\"T_df791_level0_row18\" class=\"row_heading level0 row18\" >18</th>\n",
       "      <td id=\"T_df791_row18_col0\" class=\"data row18 col0\" >need</td>\n",
       "      <td id=\"T_df791_row18_col1\" class=\"data row18 col1\" >182</td>\n",
       "    </tr>\n",
       "    <tr>\n",
       "      <th id=\"T_df791_level0_row19\" class=\"row_heading level0 row19\" >19</th>\n",
       "      <td id=\"T_df791_row19_col0\" class=\"data row19 col0\" >see</td>\n",
       "      <td id=\"T_df791_row19_col1\" class=\"data row19 col1\" >178</td>\n",
       "    </tr>\n",
       "  </tbody>\n",
       "</table>\n"
      ],
      "text/plain": [
       "<pandas.io.formats.style.Styler at 0x2c0383fde20>"
      ]
     },
     "execution_count": 45,
     "metadata": {},
     "output_type": "execute_result"
    }
   ],
   "source": [
    "other_cyberbullying = Counter([item for sublist in other_cyberbullying_type['words_list'] for item in sublist])\n",
    "top20_other_cyberbullying = pd.DataFrame(other_cyberbullying.most_common(20))\n",
    "top20_other_cyberbullying.columns = ['Top Words','Count']\n",
    "top20_other_cyberbullying.style.background_gradient(cmap='Reds')"
   ]
  },
  {
   "cell_type": "code",
   "execution_count": null,
   "id": "e28d0cc5",
   "metadata": {},
   "outputs": [],
   "source": []
  },
  {
   "cell_type": "markdown",
   "id": "82d2a523",
   "metadata": {},
   "source": [
    "## TWEET WITHOUT CYBERBULLYING"
   ]
  },
  {
   "cell_type": "code",
   "execution_count": 46,
   "id": "d03af0ea",
   "metadata": {},
   "outputs": [
    {
     "data": {
      "text/html": [
       "<style type=\"text/css\">\n",
       "#T_ecab4_row0_col1 {\n",
       "  background-color: #67000d;\n",
       "  color: #f1f1f1;\n",
       "}\n",
       "#T_ecab4_row1_col1 {\n",
       "  background-color: #f03f2e;\n",
       "  color: #f1f1f1;\n",
       "}\n",
       "#T_ecab4_row2_col1 {\n",
       "  background-color: #fc8a6a;\n",
       "  color: #f1f1f1;\n",
       "}\n",
       "#T_ecab4_row3_col1, #T_ecab4_row4_col1 {\n",
       "  background-color: #fdd7c6;\n",
       "  color: #000000;\n",
       "}\n",
       "#T_ecab4_row5_col1 {\n",
       "  background-color: #fedccd;\n",
       "  color: #000000;\n",
       "}\n",
       "#T_ecab4_row6_col1 {\n",
       "  background-color: #fee1d3;\n",
       "  color: #000000;\n",
       "}\n",
       "#T_ecab4_row7_col1, #T_ecab4_row8_col1 {\n",
       "  background-color: #feeae1;\n",
       "  color: #000000;\n",
       "}\n",
       "#T_ecab4_row9_col1 {\n",
       "  background-color: #ffece4;\n",
       "  color: #000000;\n",
       "}\n",
       "#T_ecab4_row10_col1 {\n",
       "  background-color: #ffede5;\n",
       "  color: #000000;\n",
       "}\n",
       "#T_ecab4_row11_col1 {\n",
       "  background-color: #ffeee6;\n",
       "  color: #000000;\n",
       "}\n",
       "#T_ecab4_row12_col1 {\n",
       "  background-color: #fff0e8;\n",
       "  color: #000000;\n",
       "}\n",
       "#T_ecab4_row13_col1, #T_ecab4_row14_col1 {\n",
       "  background-color: #fff1ea;\n",
       "  color: #000000;\n",
       "}\n",
       "#T_ecab4_row15_col1 {\n",
       "  background-color: #fff2eb;\n",
       "  color: #000000;\n",
       "}\n",
       "#T_ecab4_row16_col1 {\n",
       "  background-color: #fff2ec;\n",
       "  color: #000000;\n",
       "}\n",
       "#T_ecab4_row17_col1 {\n",
       "  background-color: #fff4ee;\n",
       "  color: #000000;\n",
       "}\n",
       "#T_ecab4_row18_col1, #T_ecab4_row19_col1 {\n",
       "  background-color: #fff5f0;\n",
       "  color: #000000;\n",
       "}\n",
       "</style>\n",
       "<table id=\"T_ecab4\">\n",
       "  <thead>\n",
       "    <tr>\n",
       "      <th class=\"blank level0\" >&nbsp;</th>\n",
       "      <th id=\"T_ecab4_level0_col0\" class=\"col_heading level0 col0\" >Top Words</th>\n",
       "      <th id=\"T_ecab4_level0_col1\" class=\"col_heading level0 col1\" >Count</th>\n",
       "    </tr>\n",
       "  </thead>\n",
       "  <tbody>\n",
       "    <tr>\n",
       "      <th id=\"T_ecab4_level0_row0\" class=\"row_heading level0 row0\" >0</th>\n",
       "      <td id=\"T_ecab4_row0_col0\" class=\"data row0 col0\" >mkr</td>\n",
       "      <td id=\"T_ecab4_row0_col1\" class=\"data row0 col1\" >1674</td>\n",
       "    </tr>\n",
       "    <tr>\n",
       "      <th id=\"T_ecab4_level0_row1\" class=\"row_heading level0 row1\" >1</th>\n",
       "      <td id=\"T_ecab4_row1_col0\" class=\"data row1 col0\" >bulli</td>\n",
       "      <td id=\"T_ecab4_row1_col1\" class=\"data row1 col1\" >1102</td>\n",
       "    </tr>\n",
       "    <tr>\n",
       "      <th id=\"T_ecab4_level0_row2\" class=\"row_heading level0 row2\" >2</th>\n",
       "      <td id=\"T_ecab4_row2_col0\" class=\"data row2 col0\" >rt</td>\n",
       "      <td id=\"T_ecab4_row2_col1\" class=\"data row2 col1\" >785</td>\n",
       "    </tr>\n",
       "    <tr>\n",
       "      <th id=\"T_ecab4_level0_row3\" class=\"row_heading level0 row3\" >3</th>\n",
       "      <td id=\"T_ecab4_row3_col0\" class=\"data row3 col0\" >like</td>\n",
       "      <td id=\"T_ecab4_row3_col1\" class=\"data row3 col1\" >424</td>\n",
       "    </tr>\n",
       "    <tr>\n",
       "      <th id=\"T_ecab4_level0_row4\" class=\"row_heading level0 row4\" >4</th>\n",
       "      <td id=\"T_ecab4_row4_col0\" class=\"data row4 col0\" >get</td>\n",
       "      <td id=\"T_ecab4_row4_col1\" class=\"data row4 col1\" >423</td>\n",
       "    </tr>\n",
       "    <tr>\n",
       "      <th id=\"T_ecab4_level0_row5\" class=\"row_heading level0 row5\" >5</th>\n",
       "      <td id=\"T_ecab4_row5_col0\" class=\"data row5 col0\" >go</td>\n",
       "      <td id=\"T_ecab4_row5_col1\" class=\"data row5 col1\" >394</td>\n",
       "    </tr>\n",
       "    <tr>\n",
       "      <th id=\"T_ecab4_level0_row6\" class=\"row_heading level0 row6\" >6</th>\n",
       "      <td id=\"T_ecab4_row6_col0\" class=\"data row6 col0\" >school</td>\n",
       "      <td id=\"T_ecab4_row6_col1\" class=\"data row6 col1\" >374</td>\n",
       "    </tr>\n",
       "    <tr>\n",
       "      <th id=\"T_ecab4_level0_row7\" class=\"row_heading level0 row7\" >7</th>\n",
       "      <td id=\"T_ecab4_row7_col0\" class=\"data row7 col0\" >kat</td>\n",
       "      <td id=\"T_ecab4_row7_col1\" class=\"data row7 col1\" >286</td>\n",
       "    </tr>\n",
       "    <tr>\n",
       "      <th id=\"T_ecab4_level0_row8\" class=\"row_heading level0 row8\" >8</th>\n",
       "      <td id=\"T_ecab4_row8_col0\" class=\"data row8 col0\" >would</td>\n",
       "      <td id=\"T_ecab4_row8_col1\" class=\"data row8 col1\" >286</td>\n",
       "    </tr>\n",
       "    <tr>\n",
       "      <th id=\"T_ecab4_level0_row9\" class=\"row_heading level0 row9\" >9</th>\n",
       "      <td id=\"T_ecab4_row9_col0\" class=\"data row9 col0\" >peopl</td>\n",
       "      <td id=\"T_ecab4_row9_col1\" class=\"data row9 col1\" >272</td>\n",
       "    </tr>\n",
       "    <tr>\n",
       "      <th id=\"T_ecab4_level0_row10\" class=\"row_heading level0 row10\" >10</th>\n",
       "      <td id=\"T_ecab4_row10_col0\" class=\"data row10 col0\" >one</td>\n",
       "      <td id=\"T_ecab4_row10_col1\" class=\"data row10 col1\" >264</td>\n",
       "    </tr>\n",
       "    <tr>\n",
       "      <th id=\"T_ecab4_level0_row11\" class=\"row_heading level0 row11\" >11</th>\n",
       "      <td id=\"T_ecab4_row11_col0\" class=\"data row11 col0\" >amp</td>\n",
       "      <td id=\"T_ecab4_row11_col1\" class=\"data row11 col1\" >258</td>\n",
       "    </tr>\n",
       "    <tr>\n",
       "      <th id=\"T_ecab4_level0_row12\" class=\"row_heading level0 row12\" >12</th>\n",
       "      <td id=\"T_ecab4_row12_col0\" class=\"data row12 col0\" >think</td>\n",
       "      <td id=\"T_ecab4_row12_col1\" class=\"data row12 col1\" >242</td>\n",
       "    </tr>\n",
       "    <tr>\n",
       "      <th id=\"T_ecab4_level0_row13\" class=\"row_heading level0 row13\" >13</th>\n",
       "      <td id=\"T_ecab4_row13_col0\" class=\"data row13 col0\" >u</td>\n",
       "      <td id=\"T_ecab4_row13_col1\" class=\"data row13 col1\" >231</td>\n",
       "    </tr>\n",
       "    <tr>\n",
       "      <th id=\"T_ecab4_level0_row14\" class=\"row_heading level0 row14\" >14</th>\n",
       "      <td id=\"T_ecab4_row14_col0\" class=\"data row14 col0\" >know</td>\n",
       "      <td id=\"T_ecab4_row14_col1\" class=\"data row14 col1\" >229</td>\n",
       "    </tr>\n",
       "    <tr>\n",
       "      <th id=\"T_ecab4_level0_row15\" class=\"row_heading level0 row15\" >15</th>\n",
       "      <td id=\"T_ecab4_row15_col0\" class=\"data row15 col0\" >time</td>\n",
       "      <td id=\"T_ecab4_row15_col1\" class=\"data row15 col1\" >224</td>\n",
       "    </tr>\n",
       "    <tr>\n",
       "      <th id=\"T_ecab4_level0_row16\" class=\"row_heading level0 row16\" >16</th>\n",
       "      <td id=\"T_ecab4_row16_col0\" class=\"data row16 col0\" >make</td>\n",
       "      <td id=\"T_ecab4_row16_col1\" class=\"data row16 col1\" >219</td>\n",
       "    </tr>\n",
       "    <tr>\n",
       "      <th id=\"T_ecab4_level0_row17\" class=\"row_heading level0 row17\" >17</th>\n",
       "      <td id=\"T_ecab4_row17_col0\" class=\"data row17 col0\" >love</td>\n",
       "      <td id=\"T_ecab4_row17_col1\" class=\"data row17 col1\" >207</td>\n",
       "    </tr>\n",
       "    <tr>\n",
       "      <th id=\"T_ecab4_level0_row18\" class=\"row_heading level0 row18\" >18</th>\n",
       "      <td id=\"T_ecab4_row18_col0\" class=\"data row18 col0\" >andr</td>\n",
       "      <td id=\"T_ecab4_row18_col1\" class=\"data row18 col1\" >194</td>\n",
       "    </tr>\n",
       "    <tr>\n",
       "      <th id=\"T_ecab4_level0_row19\" class=\"row_heading level0 row19\" >19</th>\n",
       "      <td id=\"T_ecab4_row19_col0\" class=\"data row19 col0\" >need</td>\n",
       "      <td id=\"T_ecab4_row19_col1\" class=\"data row19 col1\" >191</td>\n",
       "    </tr>\n",
       "  </tbody>\n",
       "</table>\n"
      ],
      "text/plain": [
       "<pandas.io.formats.style.Styler at 0x2c0383fd280>"
      ]
     },
     "execution_count": 46,
     "metadata": {},
     "output_type": "execute_result"
    }
   ],
   "source": [
    "not_cyberbullying = Counter([item for sublist in notcyber_bullying_type['words_list'] for item in sublist])\n",
    "top20_not_cyberbullying = pd.DataFrame(not_cyberbullying.most_common(20))\n",
    "top20_not_cyberbullying.columns = ['Top Words','Count']\n",
    "top20_not_cyberbullying.style.background_gradient(cmap='Reds')"
   ]
  },
  {
   "cell_type": "code",
   "execution_count": 47,
   "id": "29b1ecc5",
   "metadata": {
    "scrolled": true
   },
   "outputs": [
    {
     "data": {
      "text/html": [
       "<div>\n",
       "<style scoped>\n",
       "    .dataframe tbody tr th:only-of-type {\n",
       "        vertical-align: middle;\n",
       "    }\n",
       "\n",
       "    .dataframe tbody tr th {\n",
       "        vertical-align: top;\n",
       "    }\n",
       "\n",
       "    .dataframe thead th {\n",
       "        text-align: right;\n",
       "    }\n",
       "</style>\n",
       "<table border=\"1\" class=\"dataframe\">\n",
       "  <thead>\n",
       "    <tr style=\"text-align: right;\">\n",
       "      <th></th>\n",
       "      <th>Text</th>\n",
       "      <th>Sentiment</th>\n",
       "      <th>Sentiment_encoded</th>\n",
       "      <th>Cleaned_Text</th>\n",
       "      <th>words_list</th>\n",
       "      <th>length</th>\n",
       "    </tr>\n",
       "  </thead>\n",
       "  <tbody>\n",
       "    <tr>\n",
       "      <th>0</th>\n",
       "      <td>In other words #katandandre, your food was cra...</td>\n",
       "      <td>not_cyberbullying</td>\n",
       "      <td>3</td>\n",
       "      <td>word katandandr food crapilici mkr</td>\n",
       "      <td>[word, katandandr, food, crapilici, mkr]</td>\n",
       "      <td>5</td>\n",
       "    </tr>\n",
       "    <tr>\n",
       "      <th>1</th>\n",
       "      <td>Why is #aussietv so white? #MKR #theblock #ImA...</td>\n",
       "      <td>not_cyberbullying</td>\n",
       "      <td>3</td>\n",
       "      <td>aussietv white mkr theblock imacelebrityau tod...</td>\n",
       "      <td>[aussietv, white, mkr, theblock, imacelebritya...</td>\n",
       "      <td>11</td>\n",
       "    </tr>\n",
       "    <tr>\n",
       "      <th>2</th>\n",
       "      <td>@XochitlSuckkks a classy whore? Or more red ve...</td>\n",
       "      <td>not_cyberbullying</td>\n",
       "      <td>3</td>\n",
       "      <td>classi whore red velvet cupcak</td>\n",
       "      <td>[classi, whore, red, velvet, cupcak]</td>\n",
       "      <td>5</td>\n",
       "    </tr>\n",
       "    <tr>\n",
       "      <th>3</th>\n",
       "      <td>@Jason_Gio meh. :P  thanks for the heads up, b...</td>\n",
       "      <td>not_cyberbullying</td>\n",
       "      <td>3</td>\n",
       "      <td>meh p thank head concern anoth angri dude twitter</td>\n",
       "      <td>[meh, p, thank, head, concern, anoth, angri, d...</td>\n",
       "      <td>9</td>\n",
       "    </tr>\n",
       "    <tr>\n",
       "      <th>4</th>\n",
       "      <td>@RudhoeEnglish This is an ISIS account pretend...</td>\n",
       "      <td>not_cyberbullying</td>\n",
       "      <td>3</td>\n",
       "      <td>isi account pretend kurdish account like islam...</td>\n",
       "      <td>[isi, account, pretend, kurdish, account, like...</td>\n",
       "      <td>8</td>\n",
       "    </tr>\n",
       "    <tr>\n",
       "      <th>5</th>\n",
       "      <td>@Raja5aab @Quickieleaks Yes, the test of god i...</td>\n",
       "      <td>not_cyberbullying</td>\n",
       "      <td>3</td>\n",
       "      <td>ye test god good bad indiffer weird whatev pro...</td>\n",
       "      <td>[ye, test, god, good, bad, indiffer, weird, wh...</td>\n",
       "      <td>11</td>\n",
       "    </tr>\n",
       "    <tr>\n",
       "      <th>6</th>\n",
       "      <td>Itu sekolah ya bukan tempat bully! Ga jauh kay...</td>\n",
       "      <td>not_cyberbullying</td>\n",
       "      <td>3</td>\n",
       "      <td>itu sekolah ya bukan tempat bulli ga jauh kaya...</td>\n",
       "      <td>[itu, sekolah, ya, bukan, tempat, bulli, ga, j...</td>\n",
       "      <td>10</td>\n",
       "    </tr>\n",
       "    <tr>\n",
       "      <th>7</th>\n",
       "      <td>Karma. I hope it bites Kat on the butt. She is...</td>\n",
       "      <td>not_cyberbullying</td>\n",
       "      <td>3</td>\n",
       "      <td>karma hope bite kat butt nasti mkr</td>\n",
       "      <td>[karma, hope, bite, kat, butt, nasti, mkr]</td>\n",
       "      <td>7</td>\n",
       "    </tr>\n",
       "    <tr>\n",
       "      <th>8</th>\n",
       "      <td>@stockputout everything but mostly my priest</td>\n",
       "      <td>not_cyberbullying</td>\n",
       "      <td>3</td>\n",
       "      <td>everyth mostli priest</td>\n",
       "      <td>[everyth, mostli, priest]</td>\n",
       "      <td>3</td>\n",
       "    </tr>\n",
       "    <tr>\n",
       "      <th>9</th>\n",
       "      <td>Rebecca Black Drops Out of School Due to Bully...</td>\n",
       "      <td>not_cyberbullying</td>\n",
       "      <td>3</td>\n",
       "      <td>rebecca black drop school due bulli</td>\n",
       "      <td>[rebecca, black, drop, school, due, bulli]</td>\n",
       "      <td>6</td>\n",
       "    </tr>\n",
       "  </tbody>\n",
       "</table>\n",
       "</div>"
      ],
      "text/plain": [
       "                                                Text          Sentiment  \\\n",
       "0  In other words #katandandre, your food was cra...  not_cyberbullying   \n",
       "1  Why is #aussietv so white? #MKR #theblock #ImA...  not_cyberbullying   \n",
       "2  @XochitlSuckkks a classy whore? Or more red ve...  not_cyberbullying   \n",
       "3  @Jason_Gio meh. :P  thanks for the heads up, b...  not_cyberbullying   \n",
       "4  @RudhoeEnglish This is an ISIS account pretend...  not_cyberbullying   \n",
       "5  @Raja5aab @Quickieleaks Yes, the test of god i...  not_cyberbullying   \n",
       "6  Itu sekolah ya bukan tempat bully! Ga jauh kay...  not_cyberbullying   \n",
       "7  Karma. I hope it bites Kat on the butt. She is...  not_cyberbullying   \n",
       "8       @stockputout everything but mostly my priest  not_cyberbullying   \n",
       "9  Rebecca Black Drops Out of School Due to Bully...  not_cyberbullying   \n",
       "\n",
       "   Sentiment_encoded                                       Cleaned_Text  \\\n",
       "0                  3                 word katandandr food crapilici mkr   \n",
       "1                  3  aussietv white mkr theblock imacelebrityau tod...   \n",
       "2                  3                     classi whore red velvet cupcak   \n",
       "3                  3  meh p thank head concern anoth angri dude twitter   \n",
       "4                  3  isi account pretend kurdish account like islam...   \n",
       "5                  3  ye test god good bad indiffer weird whatev pro...   \n",
       "6                  3  itu sekolah ya bukan tempat bulli ga jauh kaya...   \n",
       "7                  3                 karma hope bite kat butt nasti mkr   \n",
       "8                  3                              everyth mostli priest   \n",
       "9                  3                rebecca black drop school due bulli   \n",
       "\n",
       "                                          words_list  length  \n",
       "0           [word, katandandr, food, crapilici, mkr]       5  \n",
       "1  [aussietv, white, mkr, theblock, imacelebritya...      11  \n",
       "2               [classi, whore, red, velvet, cupcak]       5  \n",
       "3  [meh, p, thank, head, concern, anoth, angri, d...       9  \n",
       "4  [isi, account, pretend, kurdish, account, like...       8  \n",
       "5  [ye, test, god, good, bad, indiffer, weird, wh...      11  \n",
       "6  [itu, sekolah, ya, bukan, tempat, bulli, ga, j...      10  \n",
       "7         [karma, hope, bite, kat, butt, nasti, mkr]       7  \n",
       "8                          [everyth, mostli, priest]       3  \n",
       "9         [rebecca, black, drop, school, due, bulli]       6  "
      ]
     },
     "execution_count": 47,
     "metadata": {},
     "output_type": "execute_result"
    }
   ],
   "source": [
    "data.head(10)"
   ]
  },
  {
   "cell_type": "code",
   "execution_count": 48,
   "id": "c93e21fe",
   "metadata": {},
   "outputs": [
    {
     "data": {
      "text/plain": [
       "religion               7952\n",
       "age                    7884\n",
       "ethnicity              7770\n",
       "not_cyberbullying      7646\n",
       "gender                 7620\n",
       "other_cyberbullying    5779\n",
       "Name: Sentiment, dtype: int64"
      ]
     },
     "execution_count": 48,
     "metadata": {},
     "output_type": "execute_result"
    }
   ],
   "source": [
    "data.Sentiment.value_counts()"
   ]
  },
  {
   "cell_type": "code",
   "execution_count": 49,
   "id": "c8a21f39",
   "metadata": {},
   "outputs": [],
   "source": [
    "sentiments = ['religion','age','ethnicity','gender','not_cyberbullying','other_cyberbullying']"
   ]
  },
  {
   "cell_type": "code",
   "execution_count": 50,
   "id": "2d099d07",
   "metadata": {},
   "outputs": [
    {
     "data": {
      "text/html": [
       "<div>\n",
       "<style scoped>\n",
       "    .dataframe tbody tr th:only-of-type {\n",
       "        vertical-align: middle;\n",
       "    }\n",
       "\n",
       "    .dataframe tbody tr th {\n",
       "        vertical-align: top;\n",
       "    }\n",
       "\n",
       "    .dataframe thead th {\n",
       "        text-align: right;\n",
       "    }\n",
       "</style>\n",
       "<table border=\"1\" class=\"dataframe\">\n",
       "  <thead>\n",
       "    <tr style=\"text-align: right;\">\n",
       "      <th></th>\n",
       "      <th>Text</th>\n",
       "      <th>Sentiment</th>\n",
       "      <th>Sentiment_encoded</th>\n",
       "      <th>Cleaned_Text</th>\n",
       "      <th>words_list</th>\n",
       "      <th>length</th>\n",
       "    </tr>\n",
       "  </thead>\n",
       "  <tbody>\n",
       "    <tr>\n",
       "      <th>0</th>\n",
       "      <td>In other words #katandandre, your food was cra...</td>\n",
       "      <td>not_cyberbullying</td>\n",
       "      <td>3</td>\n",
       "      <td>word katandandr food crapilici mkr</td>\n",
       "      <td>[word, katandandr, food, crapilici, mkr]</td>\n",
       "      <td>5</td>\n",
       "    </tr>\n",
       "    <tr>\n",
       "      <th>1</th>\n",
       "      <td>Why is #aussietv so white? #MKR #theblock #ImA...</td>\n",
       "      <td>not_cyberbullying</td>\n",
       "      <td>3</td>\n",
       "      <td>aussietv white mkr theblock imacelebrityau tod...</td>\n",
       "      <td>[aussietv, white, mkr, theblock, imacelebritya...</td>\n",
       "      <td>11</td>\n",
       "    </tr>\n",
       "    <tr>\n",
       "      <th>2</th>\n",
       "      <td>@XochitlSuckkks a classy whore? Or more red ve...</td>\n",
       "      <td>not_cyberbullying</td>\n",
       "      <td>3</td>\n",
       "      <td>classi whore red velvet cupcak</td>\n",
       "      <td>[classi, whore, red, velvet, cupcak]</td>\n",
       "      <td>5</td>\n",
       "    </tr>\n",
       "    <tr>\n",
       "      <th>3</th>\n",
       "      <td>@Jason_Gio meh. :P  thanks for the heads up, b...</td>\n",
       "      <td>not_cyberbullying</td>\n",
       "      <td>3</td>\n",
       "      <td>meh p thank head concern anoth angri dude twitter</td>\n",
       "      <td>[meh, p, thank, head, concern, anoth, angri, d...</td>\n",
       "      <td>9</td>\n",
       "    </tr>\n",
       "    <tr>\n",
       "      <th>4</th>\n",
       "      <td>@RudhoeEnglish This is an ISIS account pretend...</td>\n",
       "      <td>not_cyberbullying</td>\n",
       "      <td>3</td>\n",
       "      <td>isi account pretend kurdish account like islam...</td>\n",
       "      <td>[isi, account, pretend, kurdish, account, like...</td>\n",
       "      <td>8</td>\n",
       "    </tr>\n",
       "  </tbody>\n",
       "</table>\n",
       "</div>"
      ],
      "text/plain": [
       "                                                Text          Sentiment  \\\n",
       "0  In other words #katandandre, your food was cra...  not_cyberbullying   \n",
       "1  Why is #aussietv so white? #MKR #theblock #ImA...  not_cyberbullying   \n",
       "2  @XochitlSuckkks a classy whore? Or more red ve...  not_cyberbullying   \n",
       "3  @Jason_Gio meh. :P  thanks for the heads up, b...  not_cyberbullying   \n",
       "4  @RudhoeEnglish This is an ISIS account pretend...  not_cyberbullying   \n",
       "\n",
       "   Sentiment_encoded                                       Cleaned_Text  \\\n",
       "0                  3                 word katandandr food crapilici mkr   \n",
       "1                  3  aussietv white mkr theblock imacelebrityau tod...   \n",
       "2                  3                     classi whore red velvet cupcak   \n",
       "3                  3  meh p thank head concern anoth angri dude twitter   \n",
       "4                  3  isi account pretend kurdish account like islam...   \n",
       "\n",
       "                                          words_list  length  \n",
       "0           [word, katandandr, food, crapilici, mkr]       5  \n",
       "1  [aussietv, white, mkr, theblock, imacelebritya...      11  \n",
       "2               [classi, whore, red, velvet, cupcak]       5  \n",
       "3  [meh, p, thank, head, concern, anoth, angri, d...       9  \n",
       "4  [isi, account, pretend, kurdish, account, like...       8  "
      ]
     },
     "execution_count": 50,
     "metadata": {},
     "output_type": "execute_result"
    }
   ],
   "source": [
    "data.head()"
   ]
  },
  {
   "cell_type": "code",
   "execution_count": 51,
   "id": "7e9a3256",
   "metadata": {},
   "outputs": [
    {
     "data": {
      "text/plain": [
       "Index(['Text', 'Sentiment', 'Sentiment_encoded', 'Cleaned_Text', 'words_list',\n",
       "       'length'],\n",
       "      dtype='object')"
      ]
     },
     "execution_count": 51,
     "metadata": {},
     "output_type": "execute_result"
    }
   ],
   "source": [
    "data.columns"
   ]
  },
  {
   "cell_type": "markdown",
   "id": "4d80e5f3",
   "metadata": {},
   "source": [
    "# </ SAJIDHA>"
   ]
  },
  {
   "cell_type": "markdown",
   "id": "849bb12f",
   "metadata": {},
   "source": [
    "# < SARANYA>"
   ]
  },
  {
   "cell_type": "markdown",
   "id": "cc0d0ee6",
   "metadata": {},
   "source": [
    "# Splitting the data into train and test sets"
   ]
  },
  {
   "cell_type": "code",
   "execution_count": 52,
   "id": "410fffe0",
   "metadata": {},
   "outputs": [],
   "source": [
    "X, Y = data['Cleaned_Text'], data['Sentiment_encoded']"
   ]
  },
  {
   "cell_type": "code",
   "execution_count": 53,
   "id": "983fecf6",
   "metadata": {},
   "outputs": [
    {
     "name": "stdout",
     "output_type": "stream",
     "text": [
      "(35720,) (8931,) (35720,) (8931,)\n"
     ]
    }
   ],
   "source": [
    "X_train, X_test, Y_train, Y_test = train_test_split(X, Y, test_size = 0.20, stratify=Y, random_state= 25)\n",
    "print(X_train.shape, X_test.shape, Y_train.shape, Y_test.shape)"
   ]
  },
  {
   "cell_type": "markdown",
   "id": "e2ec1d1f",
   "metadata": {},
   "source": [
    "## tf-idf vectorization"
   ]
  },
  {
   "cell_type": "code",
   "execution_count": 54,
   "id": "69b88ef3",
   "metadata": {},
   "outputs": [
    {
     "name": "stdout",
     "output_type": "stream",
     "text": [
      "(35720, 31895)\n",
      "(8931, 31895)\n"
     ]
    }
   ],
   "source": [
    "tf_idf = TfidfVectorizer()\n",
    "X_train_tf = tf_idf.fit_transform(X_train)\n",
    "X_test_tf = tf_idf.transform(X_test)\n",
    "print(X_train_tf.shape)\n",
    "print(X_test_tf.shape)"
   ]
  },
  {
   "cell_type": "code",
   "execution_count": 55,
   "id": "cb66eadb",
   "metadata": {},
   "outputs": [
    {
     "data": {
      "text/plain": [
       "<35720x31895 sparse matrix of type '<class 'numpy.float64'>'\n",
       "\twith 440320 stored elements in Compressed Sparse Row format>"
      ]
     },
     "execution_count": 55,
     "metadata": {},
     "output_type": "execute_result"
    }
   ],
   "source": [
    "X_train_tf"
   ]
  },
  {
   "cell_type": "code",
   "execution_count": 56,
   "id": "f7a0bea7",
   "metadata": {},
   "outputs": [
    {
     "data": {
      "text/plain": [
       "<8931x31895 sparse matrix of type '<class 'numpy.float64'>'\n",
       "\twith 105165 stored elements in Compressed Sparse Row format>"
      ]
     },
     "execution_count": 56,
     "metadata": {},
     "output_type": "execute_result"
    }
   ],
   "source": [
    "X_test_tf"
   ]
  },
  {
   "cell_type": "markdown",
   "id": "9fb8a1c4",
   "metadata": {},
   "source": [
    "# Trying different ML models"
   ]
  },
  {
   "cell_type": "markdown",
   "id": "4ab1a94c",
   "metadata": {},
   "source": [
    "## Logistic Regression"
   ]
  },
  {
   "cell_type": "code",
   "execution_count": 57,
   "id": "96aa693e",
   "metadata": {},
   "outputs": [],
   "source": [
    "log_reg = LogisticRegression()"
   ]
  },
  {
   "cell_type": "code",
   "execution_count": 58,
   "id": "5fa71657",
   "metadata": {},
   "outputs": [
    {
     "data": {
      "text/plain": [
       "LogisticRegression()"
      ]
     },
     "execution_count": 58,
     "metadata": {},
     "output_type": "execute_result"
    }
   ],
   "source": [
    "log_reg.fit(X_train_tf, Y_train)"
   ]
  },
  {
   "cell_type": "code",
   "execution_count": 59,
   "id": "9cc3975d",
   "metadata": {},
   "outputs": [],
   "source": [
    "log_cv_score = cross_val_score(log_reg, X_train_tf, Y_train, cv=5, scoring= 'f1_macro', n_jobs=-1)\n"
   ]
  },
  {
   "cell_type": "code",
   "execution_count": 60,
   "id": "42a83beb",
   "metadata": {},
   "outputs": [
    {
     "data": {
      "text/plain": [
       "0.8251150954823713"
      ]
     },
     "execution_count": 60,
     "metadata": {},
     "output_type": "execute_result"
    }
   ],
   "source": [
    "mean_log_cv = np.mean(log_cv_score)\n",
    "mean_log_cv"
   ]
  },
  {
   "cell_type": "code",
   "execution_count": 61,
   "id": "d8480af8",
   "metadata": {},
   "outputs": [],
   "source": [
    "#ypred = log_reg.predict(X_test_tf)\n",
    "#print(log_reg.score(X_test_tf, Y_test))"
   ]
  },
  {
   "cell_type": "markdown",
   "id": "1d2a4d66",
   "metadata": {},
   "source": [
    "## Support Vector Classifier"
   ]
  },
  {
   "cell_type": "code",
   "execution_count": 62,
   "id": "32390167",
   "metadata": {},
   "outputs": [],
   "source": [
    "lin_svc = LinearSVC()\n"
   ]
  },
  {
   "cell_type": "code",
   "execution_count": 63,
   "id": "77f25794",
   "metadata": {},
   "outputs": [
    {
     "data": {
      "text/plain": [
       "0.8227953965536946"
      ]
     },
     "execution_count": 63,
     "metadata": {},
     "output_type": "execute_result"
    }
   ],
   "source": [
    "lin_svc_cv_score = cross_val_score(lin_svc,X_train_tf,Y_train,cv=5,scoring='f1_macro',n_jobs=-1)\n",
    "mean_lin_svc_cv = np.mean(lin_svc_cv_score)\n",
    "mean_lin_svc_cv\n"
   ]
  },
  {
   "cell_type": "markdown",
   "id": "6fea8dd5",
   "metadata": {},
   "source": [
    "## Naive Bayes Classifier"
   ]
  },
  {
   "cell_type": "code",
   "execution_count": 64,
   "id": "db9657f4",
   "metadata": {},
   "outputs": [],
   "source": [
    "multiNB = MultinomialNB()"
   ]
  },
  {
   "cell_type": "code",
   "execution_count": 65,
   "id": "7639bc0a",
   "metadata": {},
   "outputs": [
    {
     "data": {
      "text/plain": [
       "0.6741382100970938"
      ]
     },
     "execution_count": 65,
     "metadata": {},
     "output_type": "execute_result"
    }
   ],
   "source": [
    "multiNB_cv_score = cross_val_score(multiNB,X_train_tf,Y_train,cv=5,scoring='f1_macro',n_jobs=-1)\n",
    "mean_multiNB_cv = np.mean(multiNB_cv_score)\n",
    "mean_multiNB_cv\n"
   ]
  },
  {
   "cell_type": "markdown",
   "id": "8c415362",
   "metadata": {},
   "source": [
    "## Decison Tree Classifier\n"
   ]
  },
  {
   "cell_type": "code",
   "execution_count": 66,
   "id": "84d8b3be",
   "metadata": {},
   "outputs": [],
   "source": [
    "dtree = DecisionTreeClassifier()"
   ]
  },
  {
   "cell_type": "code",
   "execution_count": 67,
   "id": "43956e0b",
   "metadata": {},
   "outputs": [
    {
     "data": {
      "text/plain": [
       "0.8081749329058084"
      ]
     },
     "execution_count": 67,
     "metadata": {},
     "output_type": "execute_result"
    }
   ],
   "source": [
    "dtree_cv_score = cross_val_score(dtree,X_train_tf,Y_train,cv=5,scoring='f1_macro',n_jobs=-1)\n",
    "mean_dtree_cv = np.mean(dtree_cv_score)\n",
    "mean_dtree_cv\n"
   ]
  },
  {
   "cell_type": "markdown",
   "id": "0c9fddd4",
   "metadata": {},
   "source": [
    "## RandomForest Classifier"
   ]
  },
  {
   "cell_type": "code",
   "execution_count": 68,
   "id": "516a357c",
   "metadata": {},
   "outputs": [],
   "source": [
    "rand_forest = RandomForestClassifier()"
   ]
  },
  {
   "cell_type": "code",
   "execution_count": 69,
   "id": "26577d24",
   "metadata": {},
   "outputs": [
    {
     "data": {
      "text/plain": [
       "0.8298914552159429"
      ]
     },
     "execution_count": 69,
     "metadata": {},
     "output_type": "execute_result"
    }
   ],
   "source": [
    "rand_forest_cv_score = cross_val_score(rand_forest,X_train_tf,Y_train,cv=5,scoring='f1_macro',n_jobs=-1)\n",
    "mean_rand_forest_cv = np.mean(rand_forest_cv_score)\n",
    "mean_rand_forest_cv"
   ]
  },
  {
   "cell_type": "markdown",
   "id": "497db883",
   "metadata": {},
   "source": [
    "## Adaboost Classifier"
   ]
  },
  {
   "cell_type": "code",
   "execution_count": 70,
   "id": "596c14d8",
   "metadata": {},
   "outputs": [],
   "source": [
    "adab = AdaBoostClassifier()\n"
   ]
  },
  {
   "cell_type": "code",
   "execution_count": 71,
   "id": "55207d32",
   "metadata": {},
   "outputs": [
    {
     "data": {
      "text/plain": [
       "0.7590507606257052"
      ]
     },
     "execution_count": 71,
     "metadata": {},
     "output_type": "execute_result"
    }
   ],
   "source": [
    "adab_cv_score = cross_val_score(adab,X_train_tf,Y_train,cv=5,scoring='f1_macro',n_jobs=-1)\n",
    "mean_adab_cv = np.mean(adab_cv_score) \n",
    "mean_adab_cv"
   ]
  },
  {
   "cell_type": "markdown",
   "id": "d5779f36",
   "metadata": {},
   "source": [
    "## By trying different models we can see logistic regression, svm and random forest\n",
    "## classifier performed similarly, so among these we will go with svm model as it is\n",
    "## more generalised and light\n",
    "## Fine Tuning Support Vector Classifier"
   ]
  },
  {
   "cell_type": "code",
   "execution_count": 72,
   "id": "b16f97ee",
   "metadata": {},
   "outputs": [
    {
     "data": {
      "text/plain": [
       "GridSearchCV(cv=5, estimator=LinearSVC(), n_jobs=-1,\n",
       "             param_grid={'C': [0.0001, 0.001, 0.01, 0.1, 1, 10],\n",
       "                         'fit_intercept': [True, False],\n",
       "                         'loss': ['hinge', 'squared_hinge']},\n",
       "             return_train_score=True, scoring='f1_macro')"
      ]
     },
     "execution_count": 72,
     "metadata": {},
     "output_type": "execute_result"
    }
   ],
   "source": [
    "svc1 = LinearSVC()\n",
    "param_grid = {'C':[0.0001,0.001,0.01,0.1,1,10],\n",
    "'loss':['hinge','squared_hinge'],\n",
    "'fit_intercept':[True,False]}\n",
    "grid_search = GridSearchCV(svc1,param_grid,cv=5,scoring='f1_macro',n_jobs=-1,verbose=0,return_train_score=True)\n",
    "grid_search.fit(X_train_tf,Y_train)\n"
   ]
  },
  {
   "cell_type": "code",
   "execution_count": 73,
   "id": "6cab91ba",
   "metadata": {},
   "outputs": [
    {
     "data": {
      "text/plain": [
       "LinearSVC(C=1, loss='hinge')"
      ]
     },
     "execution_count": 73,
     "metadata": {},
     "output_type": "execute_result"
    }
   ],
   "source": [
    "grid_search.best_estimator_"
   ]
  },
  {
   "cell_type": "code",
   "execution_count": 74,
   "id": "e28ae004",
   "metadata": {},
   "outputs": [
    {
     "data": {
      "text/plain": [
       "0.8271200193542588"
      ]
     },
     "execution_count": 74,
     "metadata": {},
     "output_type": "execute_result"
    }
   ],
   "source": [
    "grid_search.best_score_"
   ]
  },
  {
   "cell_type": "markdown",
   "id": "62b87344",
   "metadata": {},
   "source": [
    "# MODEL EVALUATION"
   ]
  },
  {
   "cell_type": "code",
   "execution_count": 75,
   "id": "4621325d",
   "metadata": {},
   "outputs": [],
   "source": [
    "lin_svc.fit(X_train_tf, Y_train)\n",
    "y_pred = lin_svc.predict(X_test_tf)"
   ]
  },
  {
   "cell_type": "code",
   "execution_count": 76,
   "id": "9a105123",
   "metadata": {},
   "outputs": [],
   "source": [
    "def print_confusion_matrix(confusion_matrix, class_names, figsize= (10,7), fontsize = 14):\n",
    "    df_cm = pd.DataFrame(confusion_matrix, index =class_names, columns = class_names)\n",
    "    fig = plt.figure(figsize=figsize)\n",
    "    try:\n",
    "        heatmap = sns.heatmap(df_cm, annot = True, fmt = 'd')\n",
    "    except ValueError:\n",
    "        raise ValueError('Confusion matrix values must be integer.')\n",
    "    heatmap.yaxis.set_ticklabels(heatmap.yaxis.get_ticklabels(), rotation=0, ha='right', fontsize=fontsize)\n",
    "    heatmap.xaxis.set_ticklabels(heatmap.xaxis.get_ticklabels(), rotation=45, ha='right', fontsize=fontsize)\n",
    "    plt.ylabel('Truth')\n",
    "    plt.xlabel('Preiction')\n",
    "    "
   ]
  },
  {
   "cell_type": "code",
   "execution_count": 77,
   "id": "09c0a3c2",
   "metadata": {
    "scrolled": false
   },
   "outputs": [
    {
     "data": {
      "image/png": "[encoded data removed]",
      "text/plain": [
       "<Figure size 720x504 with 2 Axes>"
      ]
     },
     "metadata": {
      "needs_background": "light"
     },
     "output_type": "display_data"
    }
   ],
   "source": [
    "cm = confusion_matrix(Y_test, y_pred)\n",
    "print_confusion_matrix(cm, sentiments)"
   ]
  },
  {
   "cell_type": "code",
   "execution_count": 78,
   "id": "4de9563c",
   "metadata": {},
   "outputs": [
    {
     "name": "stdout",
     "output_type": "stream",
     "text": [
      "Classification Report\n",
      "                      precision    recall  f1-score   support\n",
      "\n",
      "           religion       0.92      0.97      0.95      1577\n",
      "                age       0.96      0.98      0.97      1554\n",
      "          ethnicity       0.90      0.84      0.87      1524\n",
      "             gender       0.63      0.61      0.62      1529\n",
      "  not_cyberbullying       0.58      0.59      0.59      1156\n",
      "other_cyberbullying       0.95      0.96      0.95      1591\n",
      "\n",
      "           accuracy                           0.84      8931\n",
      "          macro avg       0.82      0.83      0.82      8931\n",
      "       weighted avg       0.84      0.84      0.84      8931\n",
      "\n"
     ]
    }
   ],
   "source": [
    "print('Classification Report\\n', classification_report(Y_test, y_pred, target_names=sentiments))"
   ]
  },
  {
   "cell_type": "markdown",
   "id": "a4fb0c3e",
   "metadata": {},
   "source": [
    "# Saving model"
   ]
  },
  {
   "cell_type": "code",
   "execution_count": 79,
   "id": "1d0639f3",
   "metadata": {},
   "outputs": [],
   "source": [
    "pickle.dump(tf_idf, open('vectorizer.pkl', 'wb'))\n",
    "pickle.dump(lin_svc, open('model.pkl', 'wb'))"
   ]
  },
  {
   "cell_type": "markdown",
   "id": "f7473aff",
   "metadata": {},
   "source": [
    "# < /SARANYA>"
   ]
  },
  {
   "cell_type": "code",
   "execution_count": null,
   "id": "f264b560",
   "metadata": {},
   "outputs": [],
   "source": []
  }
 ],
 "metadata": {
  "kernelspec": {
   "display_name": "Python 3 (ipykernel)",
   "language": "python",
   "name": "python3"
  },
  "language_info": {
   "codemirror_mode": {
    "name": "ipython",
    "version": 3
   },
   "file_extension": ".py",
   "mimetype": "text/x-python",
   "name": "python",
   "nbconvert_exporter": "python",
   "pygments_lexer": "ipython3",
   "version": "3.9.12"
  }
 },
 "nbformat": 4,
 "nbformat_minor": 5
}
